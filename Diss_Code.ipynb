{
 "cells": [
  {
   "cell_type": "markdown",
   "id": "d056fffa",
   "metadata": {},
   "source": [
    "# Dissertation Code"
   ]
  },
  {
   "cell_type": "code",
   "execution_count": 55,
   "id": "6ae95b13",
   "metadata": {},
   "outputs": [],
   "source": [
    "import numpy as np\n",
    "import pandas as pd\n",
    "import scipy.stats as norm\n",
    "import seaborn as sns\n",
    "import statistics \n",
    "import matplotlib.pyplot as plt\n",
    "from collections import Counter\n",
    "from statsmodels.stats.weightstats import ztest as ztest"
   ]
  },
  {
   "cell_type": "markdown",
   "id": "147d287a",
   "metadata": {},
   "source": [
    "## Read Data"
   ]
  },
  {
   "cell_type": "code",
   "execution_count": 2,
   "id": "0159b465",
   "metadata": {},
   "outputs": [
    {
     "name": "stderr",
     "output_type": "stream",
     "text": [
      "C:\\Users\\Spand\\AppData\\Local\\Temp\\ipykernel_1508\\1980924999.py:1: DtypeWarning: Columns (5,13) have mixed types. Specify dtype option on import or set low_memory=False.\n",
      "  listings_raw =  pd.read_csv('Listings.csv', encoding = 'latin1')\n"
     ]
    }
   ],
   "source": [
    "listings_raw =  pd.read_csv('Listings.csv', encoding = 'latin1')"
   ]
  },
  {
   "cell_type": "code",
   "execution_count": 3,
   "id": "ea39d63a",
   "metadata": {},
   "outputs": [],
   "source": [
    "reviews_raw =  pd.read_csv('Reviews.csv', encoding = 'latin1')"
   ]
  },
  {
   "cell_type": "markdown",
   "id": "4aea50aa",
   "metadata": {},
   "source": [
    "## Reviews"
   ]
  },
  {
   "cell_type": "code",
   "execution_count": 4,
   "id": "62df090b",
   "metadata": {},
   "outputs": [
    {
     "data": {
      "text/plain": [
       "(193556,)"
      ]
     },
     "execution_count": 4,
     "metadata": {},
     "output_type": "execute_result"
    }
   ],
   "source": [
    "#Reviews\n",
    "list(reviews_raw.columns)\n",
    "\n",
    "reviews_raw.dtypes\n",
    "\n",
    "reviews_raw.isnull().sum().sum()\n",
    "#0\n",
    "reviews_raw[\"date\"] = pd.to_datetime(reviews_raw[\"date\"])\n",
    "reviews_raw.dtypes\n",
    "\n",
    "reviews_raw.shape\n",
    "#(5373143, 4)\n",
    "reviews_raw['listing_id'].nunique()\n",
    "#193556\n",
    "\n",
    "#Grouping to get reviews for each listing\n",
    "reviews = reviews_raw.groupby(['listing_id']).size()\n",
    "\n",
    "reviews.shape\n",
    "#193556"
   ]
  },
  {
   "cell_type": "markdown",
   "id": "ba789898",
   "metadata": {},
   "source": [
    "## Listings"
   ]
  },
  {
   "cell_type": "code",
   "execution_count": 5,
   "id": "96463007",
   "metadata": {},
   "outputs": [
    {
     "data": {
      "text/plain": [
       "(279712, 33)"
      ]
     },
     "execution_count": 5,
     "metadata": {},
     "output_type": "execute_result"
    }
   ],
   "source": [
    "listings_raw.shape"
   ]
  },
  {
   "cell_type": "code",
   "execution_count": 6,
   "id": "f25ba3aa",
   "metadata": {},
   "outputs": [
    {
     "data": {
      "text/plain": [
       "listing_id                       int64\n",
       "name                            object\n",
       "host_id                          int64\n",
       "host_since                      object\n",
       "host_location                   object\n",
       "host_response_time              object\n",
       "host_response_rate             float64\n",
       "host_acceptance_rate           float64\n",
       "host_is_superhost               object\n",
       "host_total_listings_count      float64\n",
       "host_has_profile_pic            object\n",
       "host_identity_verified          object\n",
       "neighbourhood                   object\n",
       "district                        object\n",
       "city                            object\n",
       "latitude                       float64\n",
       "longitude                      float64\n",
       "property_type                   object\n",
       "room_type                       object\n",
       "accommodates                     int64\n",
       "bedrooms                       float64\n",
       "amenities                       object\n",
       "price                            int64\n",
       "minimum_nights                   int64\n",
       "maximum_nights                   int64\n",
       "review_scores_rating           float64\n",
       "review_scores_accuracy         float64\n",
       "review_scores_cleanliness      float64\n",
       "review_scores_checkin          float64\n",
       "review_scores_communication    float64\n",
       "review_scores_location         float64\n",
       "review_scores_value            float64\n",
       "instant_bookable                object\n",
       "dtype: object"
      ]
     },
     "execution_count": 6,
     "metadata": {},
     "output_type": "execute_result"
    }
   ],
   "source": [
    "listings_raw.dtypes"
   ]
  },
  {
   "cell_type": "code",
   "execution_count": 7,
   "id": "6d37d613",
   "metadata": {},
   "outputs": [
    {
     "data": {
      "text/plain": [
       "(279712, 33)"
      ]
     },
     "execution_count": 7,
     "metadata": {},
     "output_type": "execute_result"
    }
   ],
   "source": [
    "listings_raw.shape"
   ]
  },
  {
   "cell_type": "code",
   "execution_count": 8,
   "id": "8034e255",
   "metadata": {},
   "outputs": [
    {
     "data": {
      "text/plain": [
       "city\n",
       "Bangkok           19361\n",
       "Cape Town         19086\n",
       "Hong Kong          7087\n",
       "Istanbul          24519\n",
       "Mexico City       20065\n",
       "New York          37012\n",
       "Paris             64690\n",
       "Rio de Janeiro    26615\n",
       "Rome              27647\n",
       "Sydney            33630\n",
       "dtype: int64"
      ]
     },
     "execution_count": 8,
     "metadata": {},
     "output_type": "execute_result"
    }
   ],
   "source": [
    "listings_raw.groupby(['city']).size()"
   ]
  },
  {
   "cell_type": "code",
   "execution_count": 9,
   "id": "4bbf26f6",
   "metadata": {},
   "outputs": [],
   "source": [
    "cities_selected = ['Paris', 'Sydney', 'New York', 'Bangkok']\n",
    "listings_cities = listings_raw.loc[listings_raw['city'].isin(cities_selected)]"
   ]
  },
  {
   "cell_type": "code",
   "execution_count": 10,
   "id": "2f302bb8",
   "metadata": {},
   "outputs": [
    {
     "data": {
      "text/plain": [
       "(154693, 33)"
      ]
     },
     "execution_count": 10,
     "metadata": {},
     "output_type": "execute_result"
    }
   ],
   "source": [
    "listings_cities.shape"
   ]
  },
  {
   "cell_type": "code",
   "execution_count": 11,
   "id": "cc0ce322",
   "metadata": {},
   "outputs": [
    {
     "data": {
      "text/plain": [
       "city\n",
       "Bangkok     19361\n",
       "New York    37012\n",
       "Paris       64690\n",
       "Sydney      33630\n",
       "dtype: int64"
      ]
     },
     "execution_count": 11,
     "metadata": {},
     "output_type": "execute_result"
    }
   ],
   "source": [
    "listings_cities.groupby(['city']).size()"
   ]
  },
  {
   "cell_type": "code",
   "execution_count": 12,
   "id": "0e5a1349",
   "metadata": {},
   "outputs": [
    {
     "data": {
      "text/html": [
       "<div>\n",
       "<style scoped>\n",
       "    .dataframe tbody tr th:only-of-type {\n",
       "        vertical-align: middle;\n",
       "    }\n",
       "\n",
       "    .dataframe tbody tr th {\n",
       "        vertical-align: top;\n",
       "    }\n",
       "\n",
       "    .dataframe thead th {\n",
       "        text-align: right;\n",
       "    }\n",
       "</style>\n",
       "<table border=\"1\" class=\"dataframe\">\n",
       "  <thead>\n",
       "    <tr style=\"text-align: right;\">\n",
       "      <th></th>\n",
       "      <th>listing_id</th>\n",
       "      <th>host_id</th>\n",
       "      <th>host_since</th>\n",
       "      <th>host_is_superhost</th>\n",
       "      <th>neighbourhood</th>\n",
       "      <th>city</th>\n",
       "      <th>latitude</th>\n",
       "      <th>longitude</th>\n",
       "      <th>property_type</th>\n",
       "      <th>room_type</th>\n",
       "      <th>...</th>\n",
       "      <th>amenities</th>\n",
       "      <th>price</th>\n",
       "      <th>review_scores_rating</th>\n",
       "      <th>review_scores_accuracy</th>\n",
       "      <th>review_scores_cleanliness</th>\n",
       "      <th>review_scores_checkin</th>\n",
       "      <th>review_scores_communication</th>\n",
       "      <th>review_scores_location</th>\n",
       "      <th>review_scores_value</th>\n",
       "      <th>instant_bookable</th>\n",
       "    </tr>\n",
       "  </thead>\n",
       "  <tbody>\n",
       "    <tr>\n",
       "      <th>0</th>\n",
       "      <td>281420</td>\n",
       "      <td>1466919</td>\n",
       "      <td>2011-12-03</td>\n",
       "      <td>f</td>\n",
       "      <td>Buttes-Montmartre</td>\n",
       "      <td>Paris</td>\n",
       "      <td>48.88668</td>\n",
       "      <td>2.33343</td>\n",
       "      <td>Entire apartment</td>\n",
       "      <td>Entire place</td>\n",
       "      <td>...</td>\n",
       "      <td>[\"Heating\", \"Kitchen\", \"Washer\", \"Wifi\", \"Long...</td>\n",
       "      <td>53</td>\n",
       "      <td>100.0</td>\n",
       "      <td>10.0</td>\n",
       "      <td>10.0</td>\n",
       "      <td>10.0</td>\n",
       "      <td>10.0</td>\n",
       "      <td>10.0</td>\n",
       "      <td>10.0</td>\n",
       "      <td>f</td>\n",
       "    </tr>\n",
       "    <tr>\n",
       "      <th>1</th>\n",
       "      <td>3705183</td>\n",
       "      <td>10328771</td>\n",
       "      <td>2013-11-29</td>\n",
       "      <td>f</td>\n",
       "      <td>Buttes-Montmartre</td>\n",
       "      <td>Paris</td>\n",
       "      <td>48.88617</td>\n",
       "      <td>2.34515</td>\n",
       "      <td>Entire apartment</td>\n",
       "      <td>Entire place</td>\n",
       "      <td>...</td>\n",
       "      <td>[\"Shampoo\", \"Heating\", \"Kitchen\", \"Essentials\"...</td>\n",
       "      <td>120</td>\n",
       "      <td>100.0</td>\n",
       "      <td>10.0</td>\n",
       "      <td>10.0</td>\n",
       "      <td>10.0</td>\n",
       "      <td>10.0</td>\n",
       "      <td>10.0</td>\n",
       "      <td>10.0</td>\n",
       "      <td>f</td>\n",
       "    </tr>\n",
       "    <tr>\n",
       "      <th>2</th>\n",
       "      <td>4082273</td>\n",
       "      <td>19252768</td>\n",
       "      <td>2014-07-31</td>\n",
       "      <td>f</td>\n",
       "      <td>Elysee</td>\n",
       "      <td>Paris</td>\n",
       "      <td>48.88112</td>\n",
       "      <td>2.31712</td>\n",
       "      <td>Entire apartment</td>\n",
       "      <td>Entire place</td>\n",
       "      <td>...</td>\n",
       "      <td>[\"Heating\", \"TV\", \"Kitchen\", \"Washer\", \"Wifi\",...</td>\n",
       "      <td>89</td>\n",
       "      <td>100.0</td>\n",
       "      <td>10.0</td>\n",
       "      <td>10.0</td>\n",
       "      <td>10.0</td>\n",
       "      <td>10.0</td>\n",
       "      <td>10.0</td>\n",
       "      <td>10.0</td>\n",
       "      <td>f</td>\n",
       "    </tr>\n",
       "    <tr>\n",
       "      <th>3</th>\n",
       "      <td>4797344</td>\n",
       "      <td>10668311</td>\n",
       "      <td>2013-12-17</td>\n",
       "      <td>f</td>\n",
       "      <td>Vaugirard</td>\n",
       "      <td>Paris</td>\n",
       "      <td>48.84571</td>\n",
       "      <td>2.30584</td>\n",
       "      <td>Entire apartment</td>\n",
       "      <td>Entire place</td>\n",
       "      <td>...</td>\n",
       "      <td>[\"Heating\", \"TV\", \"Kitchen\", \"Wifi\", \"Long ter...</td>\n",
       "      <td>58</td>\n",
       "      <td>100.0</td>\n",
       "      <td>10.0</td>\n",
       "      <td>10.0</td>\n",
       "      <td>10.0</td>\n",
       "      <td>10.0</td>\n",
       "      <td>10.0</td>\n",
       "      <td>10.0</td>\n",
       "      <td>f</td>\n",
       "    </tr>\n",
       "    <tr>\n",
       "      <th>4</th>\n",
       "      <td>4823489</td>\n",
       "      <td>24837558</td>\n",
       "      <td>2014-12-14</td>\n",
       "      <td>f</td>\n",
       "      <td>Passy</td>\n",
       "      <td>Paris</td>\n",
       "      <td>48.85500</td>\n",
       "      <td>2.26979</td>\n",
       "      <td>Entire apartment</td>\n",
       "      <td>Entire place</td>\n",
       "      <td>...</td>\n",
       "      <td>[\"Heating\", \"TV\", \"Kitchen\", \"Essentials\", \"Ha...</td>\n",
       "      <td>60</td>\n",
       "      <td>100.0</td>\n",
       "      <td>10.0</td>\n",
       "      <td>10.0</td>\n",
       "      <td>10.0</td>\n",
       "      <td>10.0</td>\n",
       "      <td>10.0</td>\n",
       "      <td>10.0</td>\n",
       "      <td>f</td>\n",
       "    </tr>\n",
       "  </tbody>\n",
       "</table>\n",
       "<p>5 rows × 22 columns</p>\n",
       "</div>"
      ],
      "text/plain": [
       "   listing_id   host_id  host_since host_is_superhost      neighbourhood  \\\n",
       "0      281420   1466919  2011-12-03                 f  Buttes-Montmartre   \n",
       "1     3705183  10328771  2013-11-29                 f  Buttes-Montmartre   \n",
       "2     4082273  19252768  2014-07-31                 f             Elysee   \n",
       "3     4797344  10668311  2013-12-17                 f          Vaugirard   \n",
       "4     4823489  24837558  2014-12-14                 f              Passy   \n",
       "\n",
       "    city  latitude  longitude     property_type     room_type  ...  \\\n",
       "0  Paris  48.88668    2.33343  Entire apartment  Entire place  ...   \n",
       "1  Paris  48.88617    2.34515  Entire apartment  Entire place  ...   \n",
       "2  Paris  48.88112    2.31712  Entire apartment  Entire place  ...   \n",
       "3  Paris  48.84571    2.30584  Entire apartment  Entire place  ...   \n",
       "4  Paris  48.85500    2.26979  Entire apartment  Entire place  ...   \n",
       "\n",
       "                                           amenities  price  \\\n",
       "0  [\"Heating\", \"Kitchen\", \"Washer\", \"Wifi\", \"Long...     53   \n",
       "1  [\"Shampoo\", \"Heating\", \"Kitchen\", \"Essentials\"...    120   \n",
       "2  [\"Heating\", \"TV\", \"Kitchen\", \"Washer\", \"Wifi\",...     89   \n",
       "3  [\"Heating\", \"TV\", \"Kitchen\", \"Wifi\", \"Long ter...     58   \n",
       "4  [\"Heating\", \"TV\", \"Kitchen\", \"Essentials\", \"Ha...     60   \n",
       "\n",
       "  review_scores_rating  review_scores_accuracy  review_scores_cleanliness  \\\n",
       "0                100.0                    10.0                       10.0   \n",
       "1                100.0                    10.0                       10.0   \n",
       "2                100.0                    10.0                       10.0   \n",
       "3                100.0                    10.0                       10.0   \n",
       "4                100.0                    10.0                       10.0   \n",
       "\n",
       "   review_scores_checkin  review_scores_communication  review_scores_location  \\\n",
       "0                   10.0                         10.0                    10.0   \n",
       "1                   10.0                         10.0                    10.0   \n",
       "2                   10.0                         10.0                    10.0   \n",
       "3                   10.0                         10.0                    10.0   \n",
       "4                   10.0                         10.0                    10.0   \n",
       "\n",
       "   review_scores_value  instant_bookable  \n",
       "0                 10.0                 f  \n",
       "1                 10.0                 f  \n",
       "2                 10.0                 f  \n",
       "3                 10.0                 f  \n",
       "4                 10.0                 f  \n",
       "\n",
       "[5 rows x 22 columns]"
      ]
     },
     "execution_count": 12,
     "metadata": {},
     "output_type": "execute_result"
    }
   ],
   "source": [
    "listings_cities = listings_cities.drop(columns = ['name', 'host_has_profile_pic', 'host_identity_verified', 'host_total_listings_count', 'district', 'host_location', 'host_response_time', 'host_response_rate', 'host_acceptance_rate', 'minimum_nights', 'maximum_nights'])\n",
    "listings_cities.head()"
   ]
  },
  {
   "cell_type": "code",
   "execution_count": 13,
   "id": "36e4bc07",
   "metadata": {},
   "outputs": [
    {
     "data": {
      "text/plain": [
       "(154693, 22)"
      ]
     },
     "execution_count": 13,
     "metadata": {},
     "output_type": "execute_result"
    }
   ],
   "source": [
    "listings_cities.shape"
   ]
  },
  {
   "cell_type": "markdown",
   "id": "14db9245",
   "metadata": {},
   "source": [
    "## Reveiw Scores"
   ]
  },
  {
   "cell_type": "code",
   "execution_count": 14,
   "id": "ef1c874f",
   "metadata": {},
   "outputs": [
    {
     "data": {
      "text/html": [
       "<div>\n",
       "<style scoped>\n",
       "    .dataframe tbody tr th:only-of-type {\n",
       "        vertical-align: middle;\n",
       "    }\n",
       "\n",
       "    .dataframe tbody tr th {\n",
       "        vertical-align: top;\n",
       "    }\n",
       "\n",
       "    .dataframe thead th {\n",
       "        text-align: right;\n",
       "    }\n",
       "</style>\n",
       "<table border=\"1\" class=\"dataframe\">\n",
       "  <thead>\n",
       "    <tr style=\"text-align: right;\">\n",
       "      <th></th>\n",
       "      <th>listing_id</th>\n",
       "      <th>host_id</th>\n",
       "      <th>host_since</th>\n",
       "      <th>host_is_superhost</th>\n",
       "      <th>neighbourhood</th>\n",
       "      <th>city</th>\n",
       "      <th>latitude</th>\n",
       "      <th>longitude</th>\n",
       "      <th>property_type</th>\n",
       "      <th>room_type</th>\n",
       "      <th>accommodates</th>\n",
       "      <th>bedrooms</th>\n",
       "      <th>amenities</th>\n",
       "      <th>price</th>\n",
       "      <th>instant_bookable</th>\n",
       "    </tr>\n",
       "  </thead>\n",
       "  <tbody>\n",
       "    <tr>\n",
       "      <th>0</th>\n",
       "      <td>281420</td>\n",
       "      <td>1466919</td>\n",
       "      <td>2011-12-03</td>\n",
       "      <td>f</td>\n",
       "      <td>Buttes-Montmartre</td>\n",
       "      <td>Paris</td>\n",
       "      <td>48.88668</td>\n",
       "      <td>2.33343</td>\n",
       "      <td>Entire apartment</td>\n",
       "      <td>Entire place</td>\n",
       "      <td>2</td>\n",
       "      <td>1.0</td>\n",
       "      <td>[\"Heating\", \"Kitchen\", \"Washer\", \"Wifi\", \"Long...</td>\n",
       "      <td>53</td>\n",
       "      <td>f</td>\n",
       "    </tr>\n",
       "    <tr>\n",
       "      <th>1</th>\n",
       "      <td>3705183</td>\n",
       "      <td>10328771</td>\n",
       "      <td>2013-11-29</td>\n",
       "      <td>f</td>\n",
       "      <td>Buttes-Montmartre</td>\n",
       "      <td>Paris</td>\n",
       "      <td>48.88617</td>\n",
       "      <td>2.34515</td>\n",
       "      <td>Entire apartment</td>\n",
       "      <td>Entire place</td>\n",
       "      <td>2</td>\n",
       "      <td>1.0</td>\n",
       "      <td>[\"Shampoo\", \"Heating\", \"Kitchen\", \"Essentials\"...</td>\n",
       "      <td>120</td>\n",
       "      <td>f</td>\n",
       "    </tr>\n",
       "    <tr>\n",
       "      <th>2</th>\n",
       "      <td>4082273</td>\n",
       "      <td>19252768</td>\n",
       "      <td>2014-07-31</td>\n",
       "      <td>f</td>\n",
       "      <td>Elysee</td>\n",
       "      <td>Paris</td>\n",
       "      <td>48.88112</td>\n",
       "      <td>2.31712</td>\n",
       "      <td>Entire apartment</td>\n",
       "      <td>Entire place</td>\n",
       "      <td>2</td>\n",
       "      <td>1.0</td>\n",
       "      <td>[\"Heating\", \"TV\", \"Kitchen\", \"Washer\", \"Wifi\",...</td>\n",
       "      <td>89</td>\n",
       "      <td>f</td>\n",
       "    </tr>\n",
       "    <tr>\n",
       "      <th>3</th>\n",
       "      <td>4797344</td>\n",
       "      <td>10668311</td>\n",
       "      <td>2013-12-17</td>\n",
       "      <td>f</td>\n",
       "      <td>Vaugirard</td>\n",
       "      <td>Paris</td>\n",
       "      <td>48.84571</td>\n",
       "      <td>2.30584</td>\n",
       "      <td>Entire apartment</td>\n",
       "      <td>Entire place</td>\n",
       "      <td>2</td>\n",
       "      <td>1.0</td>\n",
       "      <td>[\"Heating\", \"TV\", \"Kitchen\", \"Wifi\", \"Long ter...</td>\n",
       "      <td>58</td>\n",
       "      <td>f</td>\n",
       "    </tr>\n",
       "    <tr>\n",
       "      <th>4</th>\n",
       "      <td>4823489</td>\n",
       "      <td>24837558</td>\n",
       "      <td>2014-12-14</td>\n",
       "      <td>f</td>\n",
       "      <td>Passy</td>\n",
       "      <td>Paris</td>\n",
       "      <td>48.85500</td>\n",
       "      <td>2.26979</td>\n",
       "      <td>Entire apartment</td>\n",
       "      <td>Entire place</td>\n",
       "      <td>2</td>\n",
       "      <td>1.0</td>\n",
       "      <td>[\"Heating\", \"TV\", \"Kitchen\", \"Essentials\", \"Ha...</td>\n",
       "      <td>60</td>\n",
       "      <td>f</td>\n",
       "    </tr>\n",
       "  </tbody>\n",
       "</table>\n",
       "</div>"
      ],
      "text/plain": [
       "   listing_id   host_id  host_since host_is_superhost      neighbourhood  \\\n",
       "0      281420   1466919  2011-12-03                 f  Buttes-Montmartre   \n",
       "1     3705183  10328771  2013-11-29                 f  Buttes-Montmartre   \n",
       "2     4082273  19252768  2014-07-31                 f             Elysee   \n",
       "3     4797344  10668311  2013-12-17                 f          Vaugirard   \n",
       "4     4823489  24837558  2014-12-14                 f              Passy   \n",
       "\n",
       "    city  latitude  longitude     property_type     room_type  accommodates  \\\n",
       "0  Paris  48.88668    2.33343  Entire apartment  Entire place             2   \n",
       "1  Paris  48.88617    2.34515  Entire apartment  Entire place             2   \n",
       "2  Paris  48.88112    2.31712  Entire apartment  Entire place             2   \n",
       "3  Paris  48.84571    2.30584  Entire apartment  Entire place             2   \n",
       "4  Paris  48.85500    2.26979  Entire apartment  Entire place             2   \n",
       "\n",
       "   bedrooms                                          amenities  price  \\\n",
       "0       1.0  [\"Heating\", \"Kitchen\", \"Washer\", \"Wifi\", \"Long...     53   \n",
       "1       1.0  [\"Shampoo\", \"Heating\", \"Kitchen\", \"Essentials\"...    120   \n",
       "2       1.0  [\"Heating\", \"TV\", \"Kitchen\", \"Washer\", \"Wifi\",...     89   \n",
       "3       1.0  [\"Heating\", \"TV\", \"Kitchen\", \"Wifi\", \"Long ter...     58   \n",
       "4       1.0  [\"Heating\", \"TV\", \"Kitchen\", \"Essentials\", \"Ha...     60   \n",
       "\n",
       "  instant_bookable  \n",
       "0                f  \n",
       "1                f  \n",
       "2                f  \n",
       "3                f  \n",
       "4                f  "
      ]
     },
     "execution_count": 14,
     "metadata": {},
     "output_type": "execute_result"
    }
   ],
   "source": [
    "review_scores = listings_cities[['review_scores_rating', 'review_scores_accuracy', 'review_scores_cleanliness', 'review_scores_checkin', 'review_scores_communication', 'review_scores_location', 'review_scores_value']]\n",
    "\n",
    "listings_cities = listings_cities.drop(columns = ['review_scores_rating', 'review_scores_accuracy', 'review_scores_cleanliness', 'review_scores_checkin', 'review_scores_communication', 'review_scores_location', 'review_scores_value'])\n",
    "\n",
    "#listings_cities['amenities'] = listings_cities['amenities'].str[:-1] \n",
    "#listings_cities['amenities'] = listings_cities['amenities'].str[1:] \n",
    "#listings_cities.shape\n",
    "listings_cities.head()"
   ]
  },
  {
   "cell_type": "markdown",
   "id": "f3689e94",
   "metadata": {},
   "source": [
    "## Amenities"
   ]
  },
  {
   "cell_type": "code",
   "execution_count": 15,
   "id": "88103c87",
   "metadata": {},
   "outputs": [],
   "source": [
    "amen_list = []"
   ]
  },
  {
   "cell_type": "code",
   "execution_count": 16,
   "id": "46e6981b",
   "metadata": {},
   "outputs": [],
   "source": [
    "for i in listings_cities.amenities:\n",
    "    b = i.replace('\"','')\n",
    "    a = b.split(',')\n",
    "    for j in a:\n",
    "        amen_list.append(j)"
   ]
  },
  {
   "cell_type": "code",
   "execution_count": 17,
   "id": "800d8686",
   "metadata": {},
   "outputs": [
    {
     "data": {
      "text/plain": [
       "[(' Wifi', 136324),\n",
       " (' Essentials', 129274),\n",
       " (' Kitchen', 120337),\n",
       " (' Long term stays allowed', 118172),\n",
       " (' Hangers', 112725),\n",
       " (' Smoke alarm', 104865),\n",
       " (' TV', 101219),\n",
       " (' Heating', 100089),\n",
       " (' Hair dryer', 98764),\n",
       " (' Iron', 90517),\n",
       " (' Dedicated workspace', 88289),\n",
       " (' Washer', 88047),\n",
       " (' Hot water', 86276),\n",
       " (' Shampoo', 84757),\n",
       " (' Dishes and silverware', 64562),\n",
       " (' Dryer', 60828),\n",
       " (' Air conditioning', 55829),\n",
       " (' Cooking basics', 55179),\n",
       " (' Refrigerator', 51249),\n",
       " (' Microwave', 50144)]"
      ]
     },
     "execution_count": 17,
     "metadata": {},
     "output_type": "execute_result"
    }
   ],
   "source": [
    "Counter(amen_list).most_common(20)\n",
    "# Wifi, Heating, Kitchen, TV, Hair Dryer, Dedicated Workplace\n",
    "#Make Long Term stays allowed a seperate column"
   ]
  },
  {
   "cell_type": "markdown",
   "id": "bc3b7ba8",
   "metadata": {},
   "source": [
    "## Currency Conversion"
   ]
  },
  {
   "cell_type": "code",
   "execution_count": 18,
   "id": "f49adf86",
   "metadata": {},
   "outputs": [],
   "source": [
    "# 1 EUR = 1.1 USD\n",
    "# 1 AUS = 0.66 USD\n",
    "# 1 HKD = 0.13 USD\n",
    "\n",
    "def convert_to_usd(row):\n",
    "    city = row['city']\n",
    "    price = row['price']\n",
    "    if city == 'Paris':\n",
    "        exchange_rate = 1.1\n",
    "    elif city == 'Sydney':\n",
    "        exchange_rate = 0.66\n",
    "    elif city == 'Bangkok':\n",
    "        exchange_rate = 0.13\n",
    "    else:\n",
    "        exchange_rate = 1\n",
    "    return price * exchange_rate\n",
    "\n",
    "listings_cities['Price_USD'] = listings_cities.apply(convert_to_usd, axis = 1)\n",
    "listings_cities['USD_pp'] = listings_cities['Price_USD']/listings_cities['accommodates']\n",
    "listings_dupe = listings_cities"
   ]
  },
  {
   "cell_type": "markdown",
   "id": "322381f3",
   "metadata": {},
   "source": [
    "## Outlier Detection"
   ]
  },
  {
   "cell_type": "code",
   "execution_count": 19,
   "id": "095bc983",
   "metadata": {},
   "outputs": [],
   "source": [
    "#Remove the 0s\n",
    "\n",
    "#listings_cities[listings_cities.accommodates == 0].shape[0]\n",
    "#68\n",
    "#listings_cities[listings_cities.Price_USD == 0].shape[0]\n",
    "#23\n",
    "\n",
    "listings_cities = listings_cities[listings_cities['accommodates'] != 0]\n",
    "listings_cities = listings_cities[listings_cities['Price_USD'] != 0]\n",
    "\n",
    "#fig = plt.figure(figsize =(10, 7))\n",
    "#plt.boxplot(listings_cities['accommodates'])\n",
    "#plt.show()\n",
    "\n",
    "#listings_cities.shape"
   ]
  },
  {
   "cell_type": "code",
   "execution_count": 20,
   "id": "379e6f3f",
   "metadata": {},
   "outputs": [
    {
     "data": {
      "image/png": "[encoded data removed]",
      "text/plain": [
       "<Figure size 720x504 with 1 Axes>"
      ]
     },
     "metadata": {
      "needs_background": "light"
     },
     "output_type": "display_data"
    }
   ],
   "source": [
    "#listings_cities =  listings_dupe\n",
    "\n",
    "fig = plt.figure(figsize =(10, 7))\n",
    "plt.boxplot(listings_cities['USD_pp'])\n",
    "plt.show()"
   ]
  },
  {
   "cell_type": "code",
   "execution_count": 21,
   "id": "3450fb53",
   "metadata": {},
   "outputs": [
    {
     "data": {
      "image/png": "[encoded data removed]",
      "text/plain": [
       "<Figure size 720x504 with 1 Axes>"
      ]
     },
     "metadata": {
      "needs_background": "light"
     },
     "output_type": "display_data"
    }
   ],
   "source": [
    "#Remove the higher outliers\n",
    "Q1 = listings_cities['USD_pp'].quantile(0.25)\n",
    "Q3 = listings_cities['USD_pp'].quantile(0.75)\n",
    "IQR = Q3 - Q1\n",
    "lower = Q1 - 1.5*IQR\n",
    "upper = Q3 + 1.5*IQR\n",
    "upper\n",
    "\n",
    "listings_cities = listings_cities[listings_cities['USD_pp'] < upper]\n",
    "\n",
    "fig = plt.figure(figsize =(10, 7))\n",
    "plt.boxplot(listings_cities['USD_pp'])\n",
    "plt.show()"
   ]
  },
  {
   "cell_type": "code",
   "execution_count": 22,
   "id": "e5f3d805",
   "metadata": {},
   "outputs": [
    {
     "data": {
      "text/plain": [
       "(144207, 17)"
      ]
     },
     "execution_count": 22,
     "metadata": {},
     "output_type": "execute_result"
    }
   ],
   "source": [
    "listings_cities.shape"
   ]
  },
  {
   "cell_type": "code",
   "execution_count": 23,
   "id": "7602bdd2",
   "metadata": {},
   "outputs": [
    {
     "data": {
      "image/png": "[encoded data removed]",
      "text/plain": [
       "<Figure size 720x576 with 1 Axes>"
      ]
     },
     "metadata": {
      "needs_background": "light"
     },
     "output_type": "display_data"
    }
   ],
   "source": [
    "listings_cities = listings_cities[listings_cities['accommodates'] < 8]\n",
    "\n",
    "fig = plt.figure(figsize =(10, 8))\n",
    "plt.boxplot(listings_cities['accommodates'])\n",
    "plt.show()"
   ]
  },
  {
   "cell_type": "code",
   "execution_count": 24,
   "id": "d03d966b",
   "metadata": {},
   "outputs": [
    {
     "data": {
      "text/plain": [
       "(139494, 17)"
      ]
     },
     "execution_count": 24,
     "metadata": {},
     "output_type": "execute_result"
    }
   ],
   "source": [
    "listings_cities.shape"
   ]
  },
  {
   "cell_type": "code",
   "execution_count": 25,
   "id": "f21c2345",
   "metadata": {},
   "outputs": [
    {
     "data": {
      "text/plain": [
       "1.1"
      ]
     },
     "execution_count": 25,
     "metadata": {},
     "output_type": "execute_result"
    }
   ],
   "source": [
    "#listings_c = listings_cities[listings_cities['Price_USD']]\n",
    "\n",
    "#fig = plt.figure(figsize =(10, 7))\n",
    "#plt.boxplot(listings_cities['USD_pp'])\n",
    "#plt.show()\n",
    "\n",
    "#listings_cities['USD_pp'].plot(kind='kde')\n",
    "min(listings_cities['USD_pp'])"
   ]
  },
  {
   "cell_type": "markdown",
   "id": "f75edbfa",
   "metadata": {},
   "source": [
    "## Charts "
   ]
  },
  {
   "cell_type": "code",
   "execution_count": 59,
   "id": "5f1d77bf",
   "metadata": {},
   "outputs": [
    {
     "name": "stderr",
     "output_type": "stream",
     "text": [
      "C:\\Users\\Spand\\anaconda3\\lib\\site-packages\\seaborn\\distributions.py:2619: FutureWarning: `distplot` is a deprecated function and will be removed in a future version. Please adapt your code to use either `displot` (a figure-level function with similar flexibility) or `histplot` (an axes-level function for histograms).\n",
      "  warnings.warn(msg, FutureWarning)\n"
     ]
    },
    {
     "data": {
      "text/plain": [
       "<AxesSubplot:xlabel='USD_pp', ylabel='Density'>"
      ]
     },
     "execution_count": 59,
     "metadata": {},
     "output_type": "execute_result"
    },
    {
     "data": {
      "image/png": "[encoded data removed]",
      "text/plain": [
       "<Figure size 432x288 with 1 Axes>"
      ]
     },
     "metadata": {
      "needs_background": "light"
     },
     "output_type": "display_data"
    }
   ],
   "source": [
    "sns.distplot(listings_cities['USD_pp'])"
   ]
  },
  {
   "cell_type": "code",
   "execution_count": 63,
   "id": "39e28329",
   "metadata": {},
   "outputs": [
    {
     "data": {
      "text/plain": [
       "0    33.0\n",
       "Name: USD_pp, dtype: float64"
      ]
     },
     "execution_count": 63,
     "metadata": {},
     "output_type": "execute_result"
    }
   ],
   "source": [
    "listings_cities['USD_pp'].mode()"
   ]
  },
  {
   "cell_type": "code",
   "execution_count": 27,
   "id": "5c0a158b",
   "metadata": {},
   "outputs": [
    {
     "data": {
      "text/plain": [
       "([<matplotlib.patches.Wedge at 0x1f531cdc0a0>,\n",
       "  <matplotlib.patches.Wedge at 0x1f531cdc820>,\n",
       "  <matplotlib.patches.Wedge at 0x1f531cdcf40>,\n",
       "  <matplotlib.patches.Wedge at 0x1f531ce86a0>],\n",
       " [Text(0.2088043463182566, 1.0800003448881883, 'Paris'),\n",
       "  Text(-1.028916670322132, -0.38901219201101855, 'New York'),\n",
       "  Text(0.24141816850455497, -1.073180911084383, 'Sydney'),\n",
       "  Text(1.0402265495421326, -0.3576712535662736, 'Bangkok')],\n",
       " [Text(0.11389327980995813, 0.589091097211739, '43.9%'),\n",
       "  Text(-0.5612272747211627, -0.21218846836964647, '23.7%'),\n",
       "  Text(0.13168263736612087, -0.5853714060460271, '21.9%'),\n",
       "  Text(0.5673962997502541, -0.19509341103614922, '10.5%')])"
      ]
     },
     "execution_count": 27,
     "metadata": {},
     "output_type": "execute_result"
    },
    {
     "data": {
      "image/png": "[encoded data removed]",
      "text/plain": [
       "<Figure size 432x288 with 1 Axes>"
      ]
     },
     "metadata": {},
     "output_type": "display_data"
    }
   ],
   "source": [
    "#cities_count = listings_cities.groupby(['city']).size()\n",
    "#cities_count\n",
    "\n",
    "#fig, ax = plt.subplots()\n",
    "#ax.pie(listings_cities.city, labels = city, autopct = '%1.1f%%')\n",
    "\n",
    "plt.pie(listings_cities['city'].value_counts().values, labels = listings_cities['city'].value_counts().index, autopct = '%1.1f%%')"
   ]
  },
  {
   "cell_type": "code",
   "execution_count": 28,
   "id": "20e38a01",
   "metadata": {},
   "outputs": [
    {
     "data": {
      "text/plain": [
       "<AxesSubplot:xlabel='city', ylabel='USD_pp'>"
      ]
     },
     "execution_count": 28,
     "metadata": {},
     "output_type": "execute_result"
    },
    {
     "data": {
      "image/png": "[encoded data removed]",
      "text/plain": [
       "<Figure size 432x288 with 1 Axes>"
      ]
     },
     "metadata": {
      "needs_background": "light"
     },
     "output_type": "display_data"
    }
   ],
   "source": [
    "sns.boxplot(data = listings_cities, x = 'city', y = 'USD_pp')"
   ]
  },
  {
   "cell_type": "code",
   "execution_count": 29,
   "id": "a668527f",
   "metadata": {},
   "outputs": [
    {
     "data": {
      "text/plain": [
       "<AxesSubplot:xlabel='room_type', ylabel='USD_pp'>"
      ]
     },
     "execution_count": 29,
     "metadata": {},
     "output_type": "execute_result"
    },
    {
     "data": {
      "image/png": "[encoded data removed]",
      "text/plain": [
       "<Figure size 432x288 with 1 Axes>"
      ]
     },
     "metadata": {
      "needs_background": "light"
     },
     "output_type": "display_data"
    }
   ],
   "source": [
    "sns.boxplot(data = listings_cities, x = 'room_type', y = 'USD_pp')\n",
    "\n",
    "#listings_raw.groupby(['room_type']).size()"
   ]
  },
  {
   "cell_type": "code",
   "execution_count": 30,
   "id": "7f68dbfd",
   "metadata": {},
   "outputs": [],
   "source": [
    "listings_cities.to_excel('Clean.xlsx', sheet_name = 'Sheet1', index = False)"
   ]
  },
  {
   "cell_type": "markdown",
   "id": "7e382efc",
   "metadata": {},
   "source": [
    "## Cities Split "
   ]
  },
  {
   "cell_type": "code",
   "execution_count": 31,
   "id": "32265a15",
   "metadata": {},
   "outputs": [],
   "source": [
    "paris_listings = listings_cities[(listings_cities['city'] == 'Paris')]\n",
    "sydney_listings = listings_cities[(listings_cities['city'] == 'Sydney')]\n",
    "ny_listings = listings_cities[(listings_cities['city'] == 'New York')]\n",
    "bangkok_listings = listings_cities[(listings_cities['city'] == 'Bangkok')]"
   ]
  },
  {
   "cell_type": "code",
   "execution_count": 32,
   "id": "55039d92",
   "metadata": {},
   "outputs": [
    {
     "data": {
      "text/plain": [
       "city\n",
       "Bangkok     14705\n",
       "New York    33010\n",
       "Paris       61267\n",
       "Sydney      30512\n",
       "dtype: int64"
      ]
     },
     "execution_count": 32,
     "metadata": {},
     "output_type": "execute_result"
    }
   ],
   "source": [
    "listings_cities.groupby(['city']).size()"
   ]
  },
  {
   "cell_type": "code",
   "execution_count": 33,
   "id": "78af4394",
   "metadata": {},
   "outputs": [
    {
     "data": {
      "text/plain": [
       "host_is_superhost\n",
       "f    229294\n",
       "t     50253\n",
       "dtype: int64"
      ]
     },
     "execution_count": 33,
     "metadata": {},
     "output_type": "execute_result"
    }
   ],
   "source": [
    "listings_raw.groupby(['host_is_superhost']).size()"
   ]
  },
  {
   "cell_type": "code",
   "execution_count": 34,
   "id": "b8afc235",
   "metadata": {},
   "outputs": [
    {
     "data": {
      "image/png": "[encoded data removed]",
      "text/plain": [
       "<Figure size 720x504 with 1 Axes>"
      ]
     },
     "metadata": {
      "needs_background": "light"
     },
     "output_type": "display_data"
    }
   ],
   "source": [
    "fig = plt.figure(figsize =(10, 7))\n",
    "plt.boxplot(bangkok_listings['price'])\n",
    "plt.show()"
   ]
  },
  {
   "cell_type": "code",
   "execution_count": 35,
   "id": "7723f891",
   "metadata": {},
   "outputs": [
    {
     "name": "stdout",
     "output_type": "stream",
     "text": [
      "1\n"
     ]
    }
   ],
   "source": [
    "print(min(listings_cities['accommodates']))"
   ]
  },
  {
   "cell_type": "code",
   "execution_count": 72,
   "id": "9e180fc5",
   "metadata": {},
   "outputs": [
    {
     "name": "stderr",
     "output_type": "stream",
     "text": [
      "C:\\Users\\Spand\\anaconda3\\lib\\site-packages\\seaborn\\distributions.py:2619: FutureWarning: `distplot` is a deprecated function and will be removed in a future version. Please adapt your code to use either `displot` (a figure-level function with similar flexibility) or `histplot` (an axes-level function for histograms).\n",
      "  warnings.warn(msg, FutureWarning)\n",
      "C:\\Users\\Spand\\anaconda3\\lib\\site-packages\\seaborn\\distributions.py:2619: FutureWarning: `distplot` is a deprecated function and will be removed in a future version. Please adapt your code to use either `displot` (a figure-level function with similar flexibility) or `histplot` (an axes-level function for histograms).\n",
      "  warnings.warn(msg, FutureWarning)\n",
      "C:\\Users\\Spand\\anaconda3\\lib\\site-packages\\seaborn\\distributions.py:2619: FutureWarning: `distplot` is a deprecated function and will be removed in a future version. Please adapt your code to use either `displot` (a figure-level function with similar flexibility) or `histplot` (an axes-level function for histograms).\n",
      "  warnings.warn(msg, FutureWarning)\n",
      "C:\\Users\\Spand\\anaconda3\\lib\\site-packages\\seaborn\\distributions.py:2619: FutureWarning: `distplot` is a deprecated function and will be removed in a future version. Please adapt your code to use either `displot` (a figure-level function with similar flexibility) or `histplot` (an axes-level function for histograms).\n",
      "  warnings.warn(msg, FutureWarning)\n"
     ]
    },
    {
     "data": {
      "image/png": "[encoded data removed]",
      "text/plain": [
       "<Figure size 800x560 with 1 Axes>"
      ]
     },
     "metadata": {
      "needs_background": "light"
     },
     "output_type": "display_data"
    }
   ],
   "source": [
    "kwargs = dict(hist_kws = {'alpha':.6}, kde_kws = {'linewidth':2})\n",
    "\n",
    "plt.figure(figsize = (10, 7), dpi = 80)\n",
    "sns.distplot(paris_listings['USD_pp'], color = \"dodgerblue\", label = \"Paris\", **kwargs)\n",
    "sns.distplot(sydney_listings['USD_pp'], color = \"orange\", label = \"Sydney\", **kwargs)\n",
    "sns.distplot(ny_listings['USD_pp'], color = \"deeppink\", label = \"New York\", **kwargs)\n",
    "sns.distplot(bangkok_listings['USD_pp'], color = \"purple\", label = \"Bangkok\", **kwargs)\n",
    "plt.xlim(0, 110)\n",
    "plt.legend();"
   ]
  },
  {
   "cell_type": "code",
   "execution_count": 84,
   "id": "da635816",
   "metadata": {},
   "outputs": [
    {
     "data": {
      "text/plain": [
       "0    65.0\n",
       "Name: USD_pp, dtype: float64"
      ]
     },
     "execution_count": 84,
     "metadata": {},
     "output_type": "execute_result"
    }
   ],
   "source": [
    "bangkok_listings['USD_pp'].mode()"
   ]
  },
  {
   "cell_type": "markdown",
   "id": "7efe9659",
   "metadata": {},
   "source": [
    "## Hypothesis Testing "
   ]
  },
  {
   "cell_type": "markdown",
   "id": "800df1b5",
   "metadata": {},
   "source": [
    "### Hypothesis 1: Host vs Superhost"
   ]
  },
  {
   "cell_type": "code",
   "execution_count": 36,
   "id": "02c8d923",
   "metadata": {},
   "outputs": [
    {
     "data": {
      "text/plain": [
       "host_is_superhost\n",
       "f    229294\n",
       "t     50253\n",
       "dtype: int64"
      ]
     },
     "execution_count": 36,
     "metadata": {},
     "output_type": "execute_result"
    }
   ],
   "source": [
    "listings_raw.groupby(['host_is_superhost']).size()"
   ]
  },
  {
   "cell_type": "code",
   "execution_count": 37,
   "id": "9cafc5a4",
   "metadata": {},
   "outputs": [
    {
     "data": {
      "text/plain": [
       "(-17.92017855898731, 8.206430706791202e-72)"
      ]
     },
     "execution_count": 37,
     "metadata": {},
     "output_type": "execute_result"
    }
   ],
   "source": [
    "superhost_listings = listings_cities[(listings_cities['host_is_superhost'] == 'f')]\n",
    "host_listings = listings_cities[(listings_cities['host_is_superhost'] == 't')]\n",
    "\n",
    "ztest(superhost_listings['USD_pp'], host_listings['USD_pp'], value=0)"
   ]
  },
  {
   "cell_type": "code",
   "execution_count": 38,
   "id": "f8b7740a",
   "metadata": {},
   "outputs": [
    {
     "data": {
      "text/plain": [
       "<AxesSubplot:xlabel='host_is_superhost'>"
      ]
     },
     "execution_count": 38,
     "metadata": {},
     "output_type": "execute_result"
    },
    {
     "data": {
      "image/png": "[encoded data removed]",
      "text/plain": [
       "<Figure size 432x288 with 1 Axes>"
      ]
     },
     "metadata": {
      "needs_background": "light"
     },
     "output_type": "display_data"
    }
   ],
   "source": [
    "listings_cities.groupby('host_is_superhost')['USD_pp'].mean().plot.bar()"
   ]
  },
  {
   "cell_type": "code",
   "execution_count": 39,
   "id": "e2b9c46c",
   "metadata": {},
   "outputs": [
    {
     "data": {
      "text/plain": [
       "host_is_superhost\n",
       "f    38.835579\n",
       "t    41.439411\n",
       "Name: USD_pp, dtype: float64"
      ]
     },
     "execution_count": 39,
     "metadata": {},
     "output_type": "execute_result"
    }
   ],
   "source": [
    "listings_cities.groupby('host_is_superhost')['USD_pp'].mean()"
   ]
  },
  {
   "cell_type": "markdown",
   "id": "3ed253c1",
   "metadata": {},
   "source": [
    "### Hypothesis 2: Room Type"
   ]
  },
  {
   "cell_type": "code",
   "execution_count": 40,
   "id": "033fa50e",
   "metadata": {},
   "outputs": [
    {
     "data": {
      "text/plain": [
       "instant_bookable\n",
       "f    164105\n",
       "t    115607\n",
       "dtype: int64"
      ]
     },
     "execution_count": 40,
     "metadata": {},
     "output_type": "execute_result"
    }
   ],
   "source": [
    "listings_raw.groupby(['instant_bookable']).size()"
   ]
  },
  {
   "cell_type": "code",
   "execution_count": 41,
   "id": "a9c489cf",
   "metadata": {},
   "outputs": [
    {
     "data": {
      "text/plain": [
       "(-9.548722928535115, 1.3130484040464138e-21)"
      ]
     },
     "execution_count": 41,
     "metadata": {},
     "output_type": "execute_result"
    }
   ],
   "source": [
    "instant_book = listings_cities[(listings_cities['instant_bookable'] == 'f')]\n",
    "normal_book = listings_cities[(listings_cities['instant_bookable'] == 't')]\n",
    "\n",
    "ztest(instant_book['USD_pp'], normal_book['USD_pp'], value=0)"
   ]
  },
  {
   "cell_type": "code",
   "execution_count": 42,
   "id": "4b6ddef7",
   "metadata": {},
   "outputs": [
    {
     "data": {
      "text/plain": [
       "<AxesSubplot:xlabel='instant_bookable'>"
      ]
     },
     "execution_count": 42,
     "metadata": {},
     "output_type": "execute_result"
    },
    {
     "data": {
      "image/png": "[encoded data removed]",
      "text/plain": [
       "<Figure size 432x288 with 1 Axes>"
      ]
     },
     "metadata": {
      "needs_background": "light"
     },
     "output_type": "display_data"
    }
   ],
   "source": [
    "listings_cities.groupby('instant_bookable')['USD_pp'].mean().plot.bar()"
   ]
  },
  {
   "cell_type": "code",
   "execution_count": 43,
   "id": "debb2a18",
   "metadata": {},
   "outputs": [
    {
     "data": {
      "text/plain": [
       "instant_bookable\n",
       "f    38.855791\n",
       "t    39.890573\n",
       "Name: USD_pp, dtype: float64"
      ]
     },
     "execution_count": 43,
     "metadata": {},
     "output_type": "execute_result"
    }
   ],
   "source": [
    "listings_cities.groupby('instant_bookable')['USD_pp'].mean()"
   ]
  },
  {
   "cell_type": "code",
   "execution_count": null,
   "id": "6a11e5dd",
   "metadata": {},
   "outputs": [],
   "source": []
  }
 ],
 "metadata": {
  "kernelspec": {
   "display_name": "Python 3 (ipykernel)",
   "language": "python",
   "name": "python3"
  },
  "language_info": {
   "codemirror_mode": {
    "name": "ipython",
    "version": 3
   },
   "file_extension": ".py",
   "mimetype": "text/x-python",
   "name": "python",
   "nbconvert_exporter": "python",
   "pygments_lexer": "ipython3",
   "version": "3.9.12"
  }
 },
 "nbformat": 4,
 "nbformat_minor": 5
}
