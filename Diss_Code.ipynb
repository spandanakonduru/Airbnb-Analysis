{
 "cells": [
  {
   "cell_type": "markdown",
   "id": "d056fffa",
   "metadata": {},
   "source": [
    "# Dissertation Code"
   ]
  },
  {
   "cell_type": "code",
   "execution_count": 126,
   "id": "6ae95b13",
   "metadata": {},
   "outputs": [],
   "source": [
    "import statistics\n",
    "import numpy as np\n",
    "import pandas as pd\n",
    "import seaborn as sns\n",
    "from math import ceil\n",
    "from scipy import stats\n",
    "import scipy.stats as norm\n",
    "from sklearn import metrics\n",
    "from datetime import datetime\n",
    "from collections import Counter\n",
    "import matplotlib.pyplot as plt\n",
    "from sklearn.linear_model import LinearRegression\n",
    "from binarize_amenities import create_binarized_df\n",
    "from sklearn.model_selection import train_test_split\n",
    "from statsmodels.stats.weightstats import ztest as ztest"
   ]
  },
  {
   "cell_type": "markdown",
   "id": "147d287a",
   "metadata": {},
   "source": [
    "## Read Data"
   ]
  },
  {
   "cell_type": "code",
   "execution_count": 127,
   "id": "0159b465",
   "metadata": {},
   "outputs": [
    {
     "name": "stderr",
     "output_type": "stream",
     "text": [
      "C:\\Users\\Spand\\AppData\\Local\\Temp\\ipykernel_25760\\299332461.py:1: DtypeWarning: Columns (5,13) have mixed types. Specify dtype option on import or set low_memory=False.\n",
      "  listings_raw =  pd.read_csv('Listings.csv', encoding = 'latin1')\n"
     ]
    }
   ],
   "source": [
    "listings_raw =  pd.read_csv('Listings.csv', encoding = 'latin1')\n",
    "#reviews_raw =  pd.read_csv('Reviews.csv', encoding = 'latin1')"
   ]
  },
  {
   "cell_type": "markdown",
   "id": "4aea50aa",
   "metadata": {},
   "source": [
    "## Reviews"
   ]
  },
  {
   "cell_type": "code",
   "execution_count": 128,
   "id": "62df090b",
   "metadata": {},
   "outputs": [],
   "source": [
    "#Reviews\n",
    "#list(reviews_raw.columns)\n",
    "\n",
    "#reviews_raw.dtypes\n",
    "\n",
    "#reviews_raw.isnull().sum().sum()\n",
    "#0\n",
    "#reviews_raw[\"date\"] = pd.to_datetime(reviews_raw[\"date\"])\n",
    "#reviews_raw.dtypes\n",
    "\n",
    "#reviews_raw.shape\n",
    "#(5373143, 4)\n",
    "#reviews_raw['listing_id'].nunique()\n",
    "#193556\n",
    "\n",
    "#Grouping to get reviews for each listing\n",
    "#reviews = reviews_raw.groupby(['listing_id']).size()\n",
    "\n",
    "#reviews.shape\n",
    "#193556"
   ]
  },
  {
   "cell_type": "markdown",
   "id": "ba789898",
   "metadata": {},
   "source": [
    "## Listings"
   ]
  },
  {
   "cell_type": "code",
   "execution_count": 129,
   "id": "96463007",
   "metadata": {},
   "outputs": [
    {
     "data": {
      "text/plain": [
       "(279712, 33)"
      ]
     },
     "execution_count": 129,
     "metadata": {},
     "output_type": "execute_result"
    }
   ],
   "source": [
    "listings_raw.shape"
   ]
  },
  {
   "cell_type": "code",
   "execution_count": 130,
   "id": "f25ba3aa",
   "metadata": {},
   "outputs": [
    {
     "data": {
      "text/plain": [
       "listing_id                       int64\n",
       "name                            object\n",
       "host_id                          int64\n",
       "host_since                      object\n",
       "host_location                   object\n",
       "host_response_time              object\n",
       "host_response_rate             float64\n",
       "host_acceptance_rate           float64\n",
       "host_is_superhost               object\n",
       "host_total_listings_count      float64\n",
       "host_has_profile_pic            object\n",
       "host_identity_verified          object\n",
       "neighbourhood                   object\n",
       "district                        object\n",
       "city                            object\n",
       "latitude                       float64\n",
       "longitude                      float64\n",
       "property_type                   object\n",
       "room_type                       object\n",
       "accommodates                     int64\n",
       "bedrooms                       float64\n",
       "amenities                       object\n",
       "price                            int64\n",
       "minimum_nights                   int64\n",
       "maximum_nights                   int64\n",
       "review_scores_rating           float64\n",
       "review_scores_accuracy         float64\n",
       "review_scores_cleanliness      float64\n",
       "review_scores_checkin          float64\n",
       "review_scores_communication    float64\n",
       "review_scores_location         float64\n",
       "review_scores_value            float64\n",
       "instant_bookable                object\n",
       "dtype: object"
      ]
     },
     "execution_count": 130,
     "metadata": {},
     "output_type": "execute_result"
    }
   ],
   "source": [
    "listings_raw.dtypes"
   ]
  },
  {
   "cell_type": "code",
   "execution_count": 131,
   "id": "6d37d613",
   "metadata": {},
   "outputs": [
    {
     "data": {
      "text/plain": [
       "(279712, 33)"
      ]
     },
     "execution_count": 131,
     "metadata": {},
     "output_type": "execute_result"
    }
   ],
   "source": [
    "listings_raw.shape"
   ]
  },
  {
   "cell_type": "code",
   "execution_count": 132,
   "id": "8034e255",
   "metadata": {},
   "outputs": [
    {
     "data": {
      "text/plain": [
       "city\n",
       "Bangkok           19361\n",
       "Cape Town         19086\n",
       "Hong Kong          7087\n",
       "Istanbul          24519\n",
       "Mexico City       20065\n",
       "New York          37012\n",
       "Paris             64690\n",
       "Rio de Janeiro    26615\n",
       "Rome              27647\n",
       "Sydney            33630\n",
       "dtype: int64"
      ]
     },
     "execution_count": 132,
     "metadata": {},
     "output_type": "execute_result"
    }
   ],
   "source": [
    "listings_raw.groupby(['city']).size()"
   ]
  },
  {
   "cell_type": "code",
   "execution_count": 133,
   "id": "4bbf26f6",
   "metadata": {},
   "outputs": [],
   "source": [
    "cities_selected = ['Paris', 'Sydney', 'New York', 'Bangkok']\n",
    "listings_cities = listings_raw.loc[listings_raw['city'].isin(cities_selected)]"
   ]
  },
  {
   "cell_type": "code",
   "execution_count": 134,
   "id": "2f302bb8",
   "metadata": {},
   "outputs": [
    {
     "data": {
      "text/plain": [
       "(154693, 33)"
      ]
     },
     "execution_count": 134,
     "metadata": {},
     "output_type": "execute_result"
    }
   ],
   "source": [
    "listings_cities.shape"
   ]
  },
  {
   "cell_type": "code",
   "execution_count": 135,
   "id": "cc0ce322",
   "metadata": {},
   "outputs": [
    {
     "data": {
      "text/plain": [
       "city\n",
       "Bangkok     19361\n",
       "New York    37012\n",
       "Paris       64690\n",
       "Sydney      33630\n",
       "dtype: int64"
      ]
     },
     "execution_count": 135,
     "metadata": {},
     "output_type": "execute_result"
    }
   ],
   "source": [
    "listings_cities.groupby(['city']).size()"
   ]
  },
  {
   "cell_type": "code",
   "execution_count": 136,
   "id": "0e5a1349",
   "metadata": {},
   "outputs": [
    {
     "data": {
      "text/html": [
       "<div>\n",
       "<style scoped>\n",
       "    .dataframe tbody tr th:only-of-type {\n",
       "        vertical-align: middle;\n",
       "    }\n",
       "\n",
       "    .dataframe tbody tr th {\n",
       "        vertical-align: top;\n",
       "    }\n",
       "\n",
       "    .dataframe thead th {\n",
       "        text-align: right;\n",
       "    }\n",
       "</style>\n",
       "<table border=\"1\" class=\"dataframe\">\n",
       "  <thead>\n",
       "    <tr style=\"text-align: right;\">\n",
       "      <th></th>\n",
       "      <th>listing_id</th>\n",
       "      <th>host_id</th>\n",
       "      <th>host_since</th>\n",
       "      <th>host_is_superhost</th>\n",
       "      <th>neighbourhood</th>\n",
       "      <th>city</th>\n",
       "      <th>property_type</th>\n",
       "      <th>room_type</th>\n",
       "      <th>accommodates</th>\n",
       "      <th>bedrooms</th>\n",
       "      <th>amenities</th>\n",
       "      <th>price</th>\n",
       "      <th>review_scores_rating</th>\n",
       "      <th>review_scores_accuracy</th>\n",
       "      <th>review_scores_cleanliness</th>\n",
       "      <th>review_scores_checkin</th>\n",
       "      <th>review_scores_communication</th>\n",
       "      <th>review_scores_location</th>\n",
       "      <th>review_scores_value</th>\n",
       "      <th>instant_bookable</th>\n",
       "    </tr>\n",
       "  </thead>\n",
       "  <tbody>\n",
       "    <tr>\n",
       "      <th>0</th>\n",
       "      <td>281420</td>\n",
       "      <td>1466919</td>\n",
       "      <td>2011-12-03</td>\n",
       "      <td>f</td>\n",
       "      <td>Buttes-Montmartre</td>\n",
       "      <td>Paris</td>\n",
       "      <td>Entire apartment</td>\n",
       "      <td>Entire place</td>\n",
       "      <td>2</td>\n",
       "      <td>1.0</td>\n",
       "      <td>[\"Heating\", \"Kitchen\", \"Washer\", \"Wifi\", \"Long...</td>\n",
       "      <td>53</td>\n",
       "      <td>100.0</td>\n",
       "      <td>10.0</td>\n",
       "      <td>10.0</td>\n",
       "      <td>10.0</td>\n",
       "      <td>10.0</td>\n",
       "      <td>10.0</td>\n",
       "      <td>10.0</td>\n",
       "      <td>f</td>\n",
       "    </tr>\n",
       "    <tr>\n",
       "      <th>1</th>\n",
       "      <td>3705183</td>\n",
       "      <td>10328771</td>\n",
       "      <td>2013-11-29</td>\n",
       "      <td>f</td>\n",
       "      <td>Buttes-Montmartre</td>\n",
       "      <td>Paris</td>\n",
       "      <td>Entire apartment</td>\n",
       "      <td>Entire place</td>\n",
       "      <td>2</td>\n",
       "      <td>1.0</td>\n",
       "      <td>[\"Shampoo\", \"Heating\", \"Kitchen\", \"Essentials\"...</td>\n",
       "      <td>120</td>\n",
       "      <td>100.0</td>\n",
       "      <td>10.0</td>\n",
       "      <td>10.0</td>\n",
       "      <td>10.0</td>\n",
       "      <td>10.0</td>\n",
       "      <td>10.0</td>\n",
       "      <td>10.0</td>\n",
       "      <td>f</td>\n",
       "    </tr>\n",
       "    <tr>\n",
       "      <th>2</th>\n",
       "      <td>4082273</td>\n",
       "      <td>19252768</td>\n",
       "      <td>2014-07-31</td>\n",
       "      <td>f</td>\n",
       "      <td>Elysee</td>\n",
       "      <td>Paris</td>\n",
       "      <td>Entire apartment</td>\n",
       "      <td>Entire place</td>\n",
       "      <td>2</td>\n",
       "      <td>1.0</td>\n",
       "      <td>[\"Heating\", \"TV\", \"Kitchen\", \"Washer\", \"Wifi\",...</td>\n",
       "      <td>89</td>\n",
       "      <td>100.0</td>\n",
       "      <td>10.0</td>\n",
       "      <td>10.0</td>\n",
       "      <td>10.0</td>\n",
       "      <td>10.0</td>\n",
       "      <td>10.0</td>\n",
       "      <td>10.0</td>\n",
       "      <td>f</td>\n",
       "    </tr>\n",
       "    <tr>\n",
       "      <th>3</th>\n",
       "      <td>4797344</td>\n",
       "      <td>10668311</td>\n",
       "      <td>2013-12-17</td>\n",
       "      <td>f</td>\n",
       "      <td>Vaugirard</td>\n",
       "      <td>Paris</td>\n",
       "      <td>Entire apartment</td>\n",
       "      <td>Entire place</td>\n",
       "      <td>2</td>\n",
       "      <td>1.0</td>\n",
       "      <td>[\"Heating\", \"TV\", \"Kitchen\", \"Wifi\", \"Long ter...</td>\n",
       "      <td>58</td>\n",
       "      <td>100.0</td>\n",
       "      <td>10.0</td>\n",
       "      <td>10.0</td>\n",
       "      <td>10.0</td>\n",
       "      <td>10.0</td>\n",
       "      <td>10.0</td>\n",
       "      <td>10.0</td>\n",
       "      <td>f</td>\n",
       "    </tr>\n",
       "    <tr>\n",
       "      <th>4</th>\n",
       "      <td>4823489</td>\n",
       "      <td>24837558</td>\n",
       "      <td>2014-12-14</td>\n",
       "      <td>f</td>\n",
       "      <td>Passy</td>\n",
       "      <td>Paris</td>\n",
       "      <td>Entire apartment</td>\n",
       "      <td>Entire place</td>\n",
       "      <td>2</td>\n",
       "      <td>1.0</td>\n",
       "      <td>[\"Heating\", \"TV\", \"Kitchen\", \"Essentials\", \"Ha...</td>\n",
       "      <td>60</td>\n",
       "      <td>100.0</td>\n",
       "      <td>10.0</td>\n",
       "      <td>10.0</td>\n",
       "      <td>10.0</td>\n",
       "      <td>10.0</td>\n",
       "      <td>10.0</td>\n",
       "      <td>10.0</td>\n",
       "      <td>f</td>\n",
       "    </tr>\n",
       "  </tbody>\n",
       "</table>\n",
       "</div>"
      ],
      "text/plain": [
       "   listing_id   host_id  host_since host_is_superhost      neighbourhood  \\\n",
       "0      281420   1466919  2011-12-03                 f  Buttes-Montmartre   \n",
       "1     3705183  10328771  2013-11-29                 f  Buttes-Montmartre   \n",
       "2     4082273  19252768  2014-07-31                 f             Elysee   \n",
       "3     4797344  10668311  2013-12-17                 f          Vaugirard   \n",
       "4     4823489  24837558  2014-12-14                 f              Passy   \n",
       "\n",
       "    city     property_type     room_type  accommodates  bedrooms  \\\n",
       "0  Paris  Entire apartment  Entire place             2       1.0   \n",
       "1  Paris  Entire apartment  Entire place             2       1.0   \n",
       "2  Paris  Entire apartment  Entire place             2       1.0   \n",
       "3  Paris  Entire apartment  Entire place             2       1.0   \n",
       "4  Paris  Entire apartment  Entire place             2       1.0   \n",
       "\n",
       "                                           amenities  price  \\\n",
       "0  [\"Heating\", \"Kitchen\", \"Washer\", \"Wifi\", \"Long...     53   \n",
       "1  [\"Shampoo\", \"Heating\", \"Kitchen\", \"Essentials\"...    120   \n",
       "2  [\"Heating\", \"TV\", \"Kitchen\", \"Washer\", \"Wifi\",...     89   \n",
       "3  [\"Heating\", \"TV\", \"Kitchen\", \"Wifi\", \"Long ter...     58   \n",
       "4  [\"Heating\", \"TV\", \"Kitchen\", \"Essentials\", \"Ha...     60   \n",
       "\n",
       "   review_scores_rating  review_scores_accuracy  review_scores_cleanliness  \\\n",
       "0                 100.0                    10.0                       10.0   \n",
       "1                 100.0                    10.0                       10.0   \n",
       "2                 100.0                    10.0                       10.0   \n",
       "3                 100.0                    10.0                       10.0   \n",
       "4                 100.0                    10.0                       10.0   \n",
       "\n",
       "   review_scores_checkin  review_scores_communication  review_scores_location  \\\n",
       "0                   10.0                         10.0                    10.0   \n",
       "1                   10.0                         10.0                    10.0   \n",
       "2                   10.0                         10.0                    10.0   \n",
       "3                   10.0                         10.0                    10.0   \n",
       "4                   10.0                         10.0                    10.0   \n",
       "\n",
       "   review_scores_value instant_bookable  \n",
       "0                 10.0                f  \n",
       "1                 10.0                f  \n",
       "2                 10.0                f  \n",
       "3                 10.0                f  \n",
       "4                 10.0                f  "
      ]
     },
     "execution_count": 136,
     "metadata": {},
     "output_type": "execute_result"
    }
   ],
   "source": [
    "listings_cities = listings_cities.drop(columns = ['name', 'host_has_profile_pic', 'host_identity_verified', 'host_total_listings_count', 'district', 'host_location', 'host_response_time', 'host_response_rate', 'host_acceptance_rate', 'minimum_nights', 'maximum_nights', 'latitude', 'longitude'])\n",
    "listings_cities.head()"
   ]
  },
  {
   "cell_type": "code",
   "execution_count": 137,
   "id": "36e4bc07",
   "metadata": {},
   "outputs": [
    {
     "data": {
      "text/plain": [
       "(154693, 20)"
      ]
     },
     "execution_count": 137,
     "metadata": {},
     "output_type": "execute_result"
    }
   ],
   "source": [
    "listings_cities.shape"
   ]
  },
  {
   "cell_type": "code",
   "execution_count": 138,
   "id": "4d032545",
   "metadata": {},
   "outputs": [],
   "source": [
    "listings_cities.isnull().sum().sum()\n",
    "#Drop all nulls\n",
    "#20264\n",
    "\n",
    "listings_cities = listings_cities.dropna()"
   ]
  },
  {
   "cell_type": "markdown",
   "id": "14db9245",
   "metadata": {},
   "source": [
    "## Reveiw Scores"
   ]
  },
  {
   "cell_type": "code",
   "execution_count": 139,
   "id": "ef1c874f",
   "metadata": {},
   "outputs": [
    {
     "data": {
      "text/html": [
       "<div>\n",
       "<style scoped>\n",
       "    .dataframe tbody tr th:only-of-type {\n",
       "        vertical-align: middle;\n",
       "    }\n",
       "\n",
       "    .dataframe tbody tr th {\n",
       "        vertical-align: top;\n",
       "    }\n",
       "\n",
       "    .dataframe thead th {\n",
       "        text-align: right;\n",
       "    }\n",
       "</style>\n",
       "<table border=\"1\" class=\"dataframe\">\n",
       "  <thead>\n",
       "    <tr style=\"text-align: right;\">\n",
       "      <th></th>\n",
       "      <th>listing_id</th>\n",
       "      <th>host_id</th>\n",
       "      <th>host_since</th>\n",
       "      <th>host_is_superhost</th>\n",
       "      <th>neighbourhood</th>\n",
       "      <th>city</th>\n",
       "      <th>property_type</th>\n",
       "      <th>room_type</th>\n",
       "      <th>accommodates</th>\n",
       "      <th>bedrooms</th>\n",
       "      <th>amenities</th>\n",
       "      <th>price</th>\n",
       "      <th>instant_bookable</th>\n",
       "    </tr>\n",
       "  </thead>\n",
       "  <tbody>\n",
       "    <tr>\n",
       "      <th>0</th>\n",
       "      <td>281420</td>\n",
       "      <td>1466919</td>\n",
       "      <td>2011-12-03</td>\n",
       "      <td>f</td>\n",
       "      <td>Buttes-Montmartre</td>\n",
       "      <td>Paris</td>\n",
       "      <td>Entire apartment</td>\n",
       "      <td>Entire place</td>\n",
       "      <td>2</td>\n",
       "      <td>1.0</td>\n",
       "      <td>[\"Heating\", \"Kitchen\", \"Washer\", \"Wifi\", \"Long...</td>\n",
       "      <td>53</td>\n",
       "      <td>f</td>\n",
       "    </tr>\n",
       "    <tr>\n",
       "      <th>1</th>\n",
       "      <td>3705183</td>\n",
       "      <td>10328771</td>\n",
       "      <td>2013-11-29</td>\n",
       "      <td>f</td>\n",
       "      <td>Buttes-Montmartre</td>\n",
       "      <td>Paris</td>\n",
       "      <td>Entire apartment</td>\n",
       "      <td>Entire place</td>\n",
       "      <td>2</td>\n",
       "      <td>1.0</td>\n",
       "      <td>[\"Shampoo\", \"Heating\", \"Kitchen\", \"Essentials\"...</td>\n",
       "      <td>120</td>\n",
       "      <td>f</td>\n",
       "    </tr>\n",
       "    <tr>\n",
       "      <th>2</th>\n",
       "      <td>4082273</td>\n",
       "      <td>19252768</td>\n",
       "      <td>2014-07-31</td>\n",
       "      <td>f</td>\n",
       "      <td>Elysee</td>\n",
       "      <td>Paris</td>\n",
       "      <td>Entire apartment</td>\n",
       "      <td>Entire place</td>\n",
       "      <td>2</td>\n",
       "      <td>1.0</td>\n",
       "      <td>[\"Heating\", \"TV\", \"Kitchen\", \"Washer\", \"Wifi\",...</td>\n",
       "      <td>89</td>\n",
       "      <td>f</td>\n",
       "    </tr>\n",
       "    <tr>\n",
       "      <th>3</th>\n",
       "      <td>4797344</td>\n",
       "      <td>10668311</td>\n",
       "      <td>2013-12-17</td>\n",
       "      <td>f</td>\n",
       "      <td>Vaugirard</td>\n",
       "      <td>Paris</td>\n",
       "      <td>Entire apartment</td>\n",
       "      <td>Entire place</td>\n",
       "      <td>2</td>\n",
       "      <td>1.0</td>\n",
       "      <td>[\"Heating\", \"TV\", \"Kitchen\", \"Wifi\", \"Long ter...</td>\n",
       "      <td>58</td>\n",
       "      <td>f</td>\n",
       "    </tr>\n",
       "    <tr>\n",
       "      <th>4</th>\n",
       "      <td>4823489</td>\n",
       "      <td>24837558</td>\n",
       "      <td>2014-12-14</td>\n",
       "      <td>f</td>\n",
       "      <td>Passy</td>\n",
       "      <td>Paris</td>\n",
       "      <td>Entire apartment</td>\n",
       "      <td>Entire place</td>\n",
       "      <td>2</td>\n",
       "      <td>1.0</td>\n",
       "      <td>[\"Heating\", \"TV\", \"Kitchen\", \"Essentials\", \"Ha...</td>\n",
       "      <td>60</td>\n",
       "      <td>f</td>\n",
       "    </tr>\n",
       "  </tbody>\n",
       "</table>\n",
       "</div>"
      ],
      "text/plain": [
       "   listing_id   host_id  host_since host_is_superhost      neighbourhood  \\\n",
       "0      281420   1466919  2011-12-03                 f  Buttes-Montmartre   \n",
       "1     3705183  10328771  2013-11-29                 f  Buttes-Montmartre   \n",
       "2     4082273  19252768  2014-07-31                 f             Elysee   \n",
       "3     4797344  10668311  2013-12-17                 f          Vaugirard   \n",
       "4     4823489  24837558  2014-12-14                 f              Passy   \n",
       "\n",
       "    city     property_type     room_type  accommodates  bedrooms  \\\n",
       "0  Paris  Entire apartment  Entire place             2       1.0   \n",
       "1  Paris  Entire apartment  Entire place             2       1.0   \n",
       "2  Paris  Entire apartment  Entire place             2       1.0   \n",
       "3  Paris  Entire apartment  Entire place             2       1.0   \n",
       "4  Paris  Entire apartment  Entire place             2       1.0   \n",
       "\n",
       "                                           amenities  price instant_bookable  \n",
       "0  [\"Heating\", \"Kitchen\", \"Washer\", \"Wifi\", \"Long...     53                f  \n",
       "1  [\"Shampoo\", \"Heating\", \"Kitchen\", \"Essentials\"...    120                f  \n",
       "2  [\"Heating\", \"TV\", \"Kitchen\", \"Washer\", \"Wifi\",...     89                f  \n",
       "3  [\"Heating\", \"TV\", \"Kitchen\", \"Wifi\", \"Long ter...     58                f  \n",
       "4  [\"Heating\", \"TV\", \"Kitchen\", \"Essentials\", \"Ha...     60                f  "
      ]
     },
     "execution_count": 139,
     "metadata": {},
     "output_type": "execute_result"
    }
   ],
   "source": [
    "review_scores = listings_cities[['review_scores_rating', 'review_scores_accuracy', 'review_scores_cleanliness', 'review_scores_checkin', 'review_scores_communication', 'review_scores_location', 'review_scores_value']]\n",
    "\n",
    "listings_cities = listings_cities.drop(columns = ['review_scores_rating', 'review_scores_accuracy', 'review_scores_cleanliness', 'review_scores_checkin', 'review_scores_communication', 'review_scores_location', 'review_scores_value'])\n",
    "\n",
    "#listings_cities['amenities'] = listings_cities['amenities'].str[:-1] \n",
    "#listings_cities['amenities'] = listings_cities['amenities'].str[1:] \n",
    "#listings_cities.shape\n",
    "listings_cities.head()"
   ]
  },
  {
   "cell_type": "markdown",
   "id": "f3689e94",
   "metadata": {},
   "source": [
    "## Amenities"
   ]
  },
  {
   "cell_type": "code",
   "execution_count": 140,
   "id": "88103c87",
   "metadata": {},
   "outputs": [
    {
     "data": {
      "text/plain": [
       "[(' Wifi', 85676),\n",
       " (' Essentials', 81082),\n",
       " (' Kitchen', 75057),\n",
       " (' Long term stays allowed', 73442),\n",
       " (' Hangers', 72352),\n",
       " (' Hair dryer', 65421),\n",
       " (' Heating', 65420),\n",
       " (' Smoke alarm', 65227),\n",
       " (' TV', 63356),\n",
       " (' Hot water', 61044),\n",
       " (' Iron', 60908),\n",
       " (' Dedicated workspace', 58941),\n",
       " (' Shampoo', 56990),\n",
       " (' Washer', 55732),\n",
       " (' Dishes and silverware', 48907),\n",
       " (' Cooking basics', 41842),\n",
       " (' Dryer', 38546),\n",
       " (' Refrigerator', 37845),\n",
       " (' Microwave', 37663),\n",
       " (' Stove', 36794)]"
      ]
     },
     "execution_count": 140,
     "metadata": {},
     "output_type": "execute_result"
    }
   ],
   "source": [
    "amen_list = []\n",
    "\n",
    "for i in listings_cities.amenities:\n",
    "    b = i.replace('\"','')\n",
    "    a = b.split(',')\n",
    "    for j in a:\n",
    "        amen_list.append(j)\n",
    "        \n",
    "Counter(amen_list).most_common(20)\n",
    "# Wifi, Heating, Kitchen, TV, Hair Dryer, Dedicated Workplace\n",
    "#Make Long Term stays allowed a seperate column"
   ]
  },
  {
   "cell_type": "code",
   "execution_count": 141,
   "id": "4489492d",
   "metadata": {},
   "outputs": [],
   "source": [
    "amenities_names = ['Wifi', \"Heating\", \"Kitchen\", \"TV\", \"Dedicated workspace\"]\n",
    "\n",
    "def create_binarized_df(base_df, amenities_names):\n",
    "    amen_list = []\n",
    "    binarized_list = []\n",
    "    new_amen_list = []\n",
    "\n",
    "    for i in base_df.amenities:\n",
    "        b = i.replace('\"','')\n",
    "        a = b.split(',')\n",
    "        per_unit_list = []\n",
    "        for j in a:\n",
    "            # print(j.split('[')[-1].split(']')[-1])\n",
    "            # break\n",
    "            per_unit_list.append(j.split('[')[-1].split(']')[-1])\n",
    "        amen_list.append(per_unit_list)\n",
    "    \n",
    "    for i in amen_list:\n",
    "        mid_list = []\n",
    "        for j in i:\n",
    "            j = j.lstrip()\n",
    "            mid_list.append(j)\n",
    "        new_amen_list.append(mid_list)\n",
    "    \n",
    "    for item in new_amen_list:\n",
    "        mask_list = [0]*len(amenities_names)\n",
    "        for i in range(0,len(amenities_names)):\n",
    "            if amenities_names[i] in item:\n",
    "                mask_list[i] = 1\n",
    "        binarized_list.append(mask_list)\n",
    "    # print(item)\n",
    "    \n",
    "    amenities_df = pd.DataFrame(binarized_list, columns=amenities_names)\n",
    "\n",
    "    base_df_sans_amenities = base_df.drop(columns='amenities')\n",
    "    concat_df = pd.concat([base_df_sans_amenities, amenities_df], axis = 1)\n",
    "    \n",
    "    return concat_df\n",
    "    \n",
    "listings_cities = create_binarized_df(listings_cities, amenities_names)"
   ]
  },
  {
   "cell_type": "code",
   "execution_count": 142,
   "id": "8e7e409a",
   "metadata": {},
   "outputs": [],
   "source": [
    "#Converting binazrized columns to boolean\n",
    "listings_cities['Wifi'] = listings_cities['Wifi'].astype('bool')\n",
    "listings_cities['Heating'] = listings_cities['Heating'].astype('bool')\n",
    "listings_cities['Kitchen'] = listings_cities['Kitchen'].astype('bool')\n",
    "listings_cities['TV'] = listings_cities['TV'].astype('bool')\n",
    "listings_cities['Dedicated workspace'] = listings_cities['Dedicated workspace'].astype('bool')\n",
    "\n",
    "#Replace values in superhost and \n",
    "listings_cities = listings_cities.replace({'host_is_superhost': {'t': True, 'f': False}})\n",
    "listings_cities = listings_cities.replace({'instant_bookable': {'t': True, 'f': False}})"
   ]
  },
  {
   "cell_type": "code",
   "execution_count": 143,
   "id": "57f16fbb",
   "metadata": {},
   "outputs": [
    {
     "data": {
      "text/html": [
       "<div>\n",
       "<style scoped>\n",
       "    .dataframe tbody tr th:only-of-type {\n",
       "        vertical-align: middle;\n",
       "    }\n",
       "\n",
       "    .dataframe tbody tr th {\n",
       "        vertical-align: top;\n",
       "    }\n",
       "\n",
       "    .dataframe thead th {\n",
       "        text-align: right;\n",
       "    }\n",
       "</style>\n",
       "<table border=\"1\" class=\"dataframe\">\n",
       "  <thead>\n",
       "    <tr style=\"text-align: right;\">\n",
       "      <th></th>\n",
       "      <th>listing_id</th>\n",
       "      <th>host_id</th>\n",
       "      <th>host_since</th>\n",
       "      <th>host_is_superhost</th>\n",
       "      <th>neighbourhood</th>\n",
       "      <th>city</th>\n",
       "      <th>property_type</th>\n",
       "      <th>room_type</th>\n",
       "      <th>accommodates</th>\n",
       "      <th>bedrooms</th>\n",
       "      <th>price</th>\n",
       "      <th>instant_bookable</th>\n",
       "      <th>Wifi</th>\n",
       "      <th>Heating</th>\n",
       "      <th>Kitchen</th>\n",
       "      <th>TV</th>\n",
       "      <th>Dedicated workspace</th>\n",
       "    </tr>\n",
       "  </thead>\n",
       "  <tbody>\n",
       "    <tr>\n",
       "      <th>0</th>\n",
       "      <td>281420.0</td>\n",
       "      <td>1466919.0</td>\n",
       "      <td>2011-12-03</td>\n",
       "      <td>False</td>\n",
       "      <td>Buttes-Montmartre</td>\n",
       "      <td>Paris</td>\n",
       "      <td>Entire apartment</td>\n",
       "      <td>Entire place</td>\n",
       "      <td>2.0</td>\n",
       "      <td>1.0</td>\n",
       "      <td>53.0</td>\n",
       "      <td>False</td>\n",
       "      <td>True</td>\n",
       "      <td>True</td>\n",
       "      <td>True</td>\n",
       "      <td>False</td>\n",
       "      <td>False</td>\n",
       "    </tr>\n",
       "    <tr>\n",
       "      <th>1</th>\n",
       "      <td>3705183.0</td>\n",
       "      <td>10328771.0</td>\n",
       "      <td>2013-11-29</td>\n",
       "      <td>False</td>\n",
       "      <td>Buttes-Montmartre</td>\n",
       "      <td>Paris</td>\n",
       "      <td>Entire apartment</td>\n",
       "      <td>Entire place</td>\n",
       "      <td>2.0</td>\n",
       "      <td>1.0</td>\n",
       "      <td>120.0</td>\n",
       "      <td>False</td>\n",
       "      <td>True</td>\n",
       "      <td>True</td>\n",
       "      <td>True</td>\n",
       "      <td>False</td>\n",
       "      <td>False</td>\n",
       "    </tr>\n",
       "    <tr>\n",
       "      <th>2</th>\n",
       "      <td>4082273.0</td>\n",
       "      <td>19252768.0</td>\n",
       "      <td>2014-07-31</td>\n",
       "      <td>False</td>\n",
       "      <td>Elysee</td>\n",
       "      <td>Paris</td>\n",
       "      <td>Entire apartment</td>\n",
       "      <td>Entire place</td>\n",
       "      <td>2.0</td>\n",
       "      <td>1.0</td>\n",
       "      <td>89.0</td>\n",
       "      <td>False</td>\n",
       "      <td>True</td>\n",
       "      <td>True</td>\n",
       "      <td>True</td>\n",
       "      <td>True</td>\n",
       "      <td>False</td>\n",
       "    </tr>\n",
       "    <tr>\n",
       "      <th>3</th>\n",
       "      <td>4797344.0</td>\n",
       "      <td>10668311.0</td>\n",
       "      <td>2013-12-17</td>\n",
       "      <td>False</td>\n",
       "      <td>Vaugirard</td>\n",
       "      <td>Paris</td>\n",
       "      <td>Entire apartment</td>\n",
       "      <td>Entire place</td>\n",
       "      <td>2.0</td>\n",
       "      <td>1.0</td>\n",
       "      <td>58.0</td>\n",
       "      <td>False</td>\n",
       "      <td>True</td>\n",
       "      <td>True</td>\n",
       "      <td>True</td>\n",
       "      <td>True</td>\n",
       "      <td>False</td>\n",
       "    </tr>\n",
       "    <tr>\n",
       "      <th>4</th>\n",
       "      <td>4823489.0</td>\n",
       "      <td>24837558.0</td>\n",
       "      <td>2014-12-14</td>\n",
       "      <td>False</td>\n",
       "      <td>Passy</td>\n",
       "      <td>Paris</td>\n",
       "      <td>Entire apartment</td>\n",
       "      <td>Entire place</td>\n",
       "      <td>2.0</td>\n",
       "      <td>1.0</td>\n",
       "      <td>60.0</td>\n",
       "      <td>False</td>\n",
       "      <td>True</td>\n",
       "      <td>True</td>\n",
       "      <td>True</td>\n",
       "      <td>True</td>\n",
       "      <td>False</td>\n",
       "    </tr>\n",
       "  </tbody>\n",
       "</table>\n",
       "</div>"
      ],
      "text/plain": [
       "   listing_id     host_id  host_since host_is_superhost      neighbourhood  \\\n",
       "0    281420.0   1466919.0  2011-12-03             False  Buttes-Montmartre   \n",
       "1   3705183.0  10328771.0  2013-11-29             False  Buttes-Montmartre   \n",
       "2   4082273.0  19252768.0  2014-07-31             False             Elysee   \n",
       "3   4797344.0  10668311.0  2013-12-17             False          Vaugirard   \n",
       "4   4823489.0  24837558.0  2014-12-14             False              Passy   \n",
       "\n",
       "    city     property_type     room_type  accommodates  bedrooms  price  \\\n",
       "0  Paris  Entire apartment  Entire place           2.0       1.0   53.0   \n",
       "1  Paris  Entire apartment  Entire place           2.0       1.0  120.0   \n",
       "2  Paris  Entire apartment  Entire place           2.0       1.0   89.0   \n",
       "3  Paris  Entire apartment  Entire place           2.0       1.0   58.0   \n",
       "4  Paris  Entire apartment  Entire place           2.0       1.0   60.0   \n",
       "\n",
       "  instant_bookable  Wifi  Heating  Kitchen     TV  Dedicated workspace  \n",
       "0            False  True     True     True  False                False  \n",
       "1            False  True     True     True  False                False  \n",
       "2            False  True     True     True   True                False  \n",
       "3            False  True     True     True   True                False  \n",
       "4            False  True     True     True   True                False  "
      ]
     },
     "execution_count": 143,
     "metadata": {},
     "output_type": "execute_result"
    }
   ],
   "source": [
    "listings_cities.head()\n",
    "#listings_cities.groupby(['Wifi']).size()"
   ]
  },
  {
   "cell_type": "markdown",
   "id": "bc3b7ba8",
   "metadata": {},
   "source": [
    "## Currency Conversion"
   ]
  },
  {
   "cell_type": "code",
   "execution_count": 144,
   "id": "f49adf86",
   "metadata": {},
   "outputs": [],
   "source": [
    "# 1 EUR = 1.1 USD\n",
    "# 1 AUS = 0.66 USD\n",
    "# 1 HKD = 0.13 USD\n",
    "\n",
    "def convert_to_usd(row):\n",
    "    city = row['city']\n",
    "    price = row['price']\n",
    "    if city == 'Paris':\n",
    "        exchange_rate = 1.1\n",
    "    elif city == 'Sydney':\n",
    "        exchange_rate = 0.66\n",
    "    elif city == 'Bangkok':\n",
    "        exchange_rate = 0.13\n",
    "    else:\n",
    "        exchange_rate = 1\n",
    "    return price * exchange_rate\n",
    "\n",
    "listings_cities['Price_USD'] = listings_cities.apply(convert_to_usd, axis = 1)\n",
    "listings_cities['USD_pp'] = listings_cities['Price_USD']/listings_cities['accommodates']\n",
    "listings_dupe = listings_cities"
   ]
  },
  {
   "cell_type": "markdown",
   "id": "6b3756a1",
   "metadata": {},
   "source": [
    "### Host Duration "
   ]
  },
  {
   "cell_type": "code",
   "execution_count": 145,
   "id": "0633cf15",
   "metadata": {},
   "outputs": [
    {
     "data": {
      "text/html": [
       "<div>\n",
       "<style scoped>\n",
       "    .dataframe tbody tr th:only-of-type {\n",
       "        vertical-align: middle;\n",
       "    }\n",
       "\n",
       "    .dataframe tbody tr th {\n",
       "        vertical-align: top;\n",
       "    }\n",
       "\n",
       "    .dataframe thead th {\n",
       "        text-align: right;\n",
       "    }\n",
       "</style>\n",
       "<table border=\"1\" class=\"dataframe\">\n",
       "  <thead>\n",
       "    <tr style=\"text-align: right;\">\n",
       "      <th></th>\n",
       "      <th>listing_id</th>\n",
       "      <th>host_id</th>\n",
       "      <th>host_since</th>\n",
       "      <th>host_is_superhost</th>\n",
       "      <th>neighbourhood</th>\n",
       "      <th>city</th>\n",
       "      <th>property_type</th>\n",
       "      <th>room_type</th>\n",
       "      <th>accommodates</th>\n",
       "      <th>bedrooms</th>\n",
       "      <th>price</th>\n",
       "      <th>instant_bookable</th>\n",
       "      <th>Wifi</th>\n",
       "      <th>Heating</th>\n",
       "      <th>Kitchen</th>\n",
       "      <th>TV</th>\n",
       "      <th>Dedicated workspace</th>\n",
       "      <th>Price_USD</th>\n",
       "      <th>USD_pp</th>\n",
       "      <th>Host Months</th>\n",
       "    </tr>\n",
       "  </thead>\n",
       "  <tbody>\n",
       "    <tr>\n",
       "      <th>0</th>\n",
       "      <td>281420.0</td>\n",
       "      <td>1466919.0</td>\n",
       "      <td>2011-12-03</td>\n",
       "      <td>False</td>\n",
       "      <td>Buttes-Montmartre</td>\n",
       "      <td>Paris</td>\n",
       "      <td>Entire apartment</td>\n",
       "      <td>Entire place</td>\n",
       "      <td>2.0</td>\n",
       "      <td>1.0</td>\n",
       "      <td>53.0</td>\n",
       "      <td>False</td>\n",
       "      <td>True</td>\n",
       "      <td>True</td>\n",
       "      <td>True</td>\n",
       "      <td>False</td>\n",
       "      <td>False</td>\n",
       "      <td>58.3</td>\n",
       "      <td>29.15</td>\n",
       "      <td>143.0</td>\n",
       "    </tr>\n",
       "    <tr>\n",
       "      <th>1</th>\n",
       "      <td>3705183.0</td>\n",
       "      <td>10328771.0</td>\n",
       "      <td>2013-11-29</td>\n",
       "      <td>False</td>\n",
       "      <td>Buttes-Montmartre</td>\n",
       "      <td>Paris</td>\n",
       "      <td>Entire apartment</td>\n",
       "      <td>Entire place</td>\n",
       "      <td>2.0</td>\n",
       "      <td>1.0</td>\n",
       "      <td>120.0</td>\n",
       "      <td>False</td>\n",
       "      <td>True</td>\n",
       "      <td>True</td>\n",
       "      <td>True</td>\n",
       "      <td>False</td>\n",
       "      <td>False</td>\n",
       "      <td>132.0</td>\n",
       "      <td>66.00</td>\n",
       "      <td>119.0</td>\n",
       "    </tr>\n",
       "    <tr>\n",
       "      <th>2</th>\n",
       "      <td>4082273.0</td>\n",
       "      <td>19252768.0</td>\n",
       "      <td>2014-07-31</td>\n",
       "      <td>False</td>\n",
       "      <td>Elysee</td>\n",
       "      <td>Paris</td>\n",
       "      <td>Entire apartment</td>\n",
       "      <td>Entire place</td>\n",
       "      <td>2.0</td>\n",
       "      <td>1.0</td>\n",
       "      <td>89.0</td>\n",
       "      <td>False</td>\n",
       "      <td>True</td>\n",
       "      <td>True</td>\n",
       "      <td>True</td>\n",
       "      <td>True</td>\n",
       "      <td>False</td>\n",
       "      <td>97.9</td>\n",
       "      <td>48.95</td>\n",
       "      <td>111.0</td>\n",
       "    </tr>\n",
       "    <tr>\n",
       "      <th>3</th>\n",
       "      <td>4797344.0</td>\n",
       "      <td>10668311.0</td>\n",
       "      <td>2013-12-17</td>\n",
       "      <td>False</td>\n",
       "      <td>Vaugirard</td>\n",
       "      <td>Paris</td>\n",
       "      <td>Entire apartment</td>\n",
       "      <td>Entire place</td>\n",
       "      <td>2.0</td>\n",
       "      <td>1.0</td>\n",
       "      <td>58.0</td>\n",
       "      <td>False</td>\n",
       "      <td>True</td>\n",
       "      <td>True</td>\n",
       "      <td>True</td>\n",
       "      <td>True</td>\n",
       "      <td>False</td>\n",
       "      <td>63.8</td>\n",
       "      <td>31.90</td>\n",
       "      <td>119.0</td>\n",
       "    </tr>\n",
       "    <tr>\n",
       "      <th>4</th>\n",
       "      <td>4823489.0</td>\n",
       "      <td>24837558.0</td>\n",
       "      <td>2014-12-14</td>\n",
       "      <td>False</td>\n",
       "      <td>Passy</td>\n",
       "      <td>Paris</td>\n",
       "      <td>Entire apartment</td>\n",
       "      <td>Entire place</td>\n",
       "      <td>2.0</td>\n",
       "      <td>1.0</td>\n",
       "      <td>60.0</td>\n",
       "      <td>False</td>\n",
       "      <td>True</td>\n",
       "      <td>True</td>\n",
       "      <td>True</td>\n",
       "      <td>True</td>\n",
       "      <td>False</td>\n",
       "      <td>66.0</td>\n",
       "      <td>33.00</td>\n",
       "      <td>107.0</td>\n",
       "    </tr>\n",
       "  </tbody>\n",
       "</table>\n",
       "</div>"
      ],
      "text/plain": [
       "   listing_id     host_id host_since host_is_superhost      neighbourhood  \\\n",
       "0    281420.0   1466919.0 2011-12-03             False  Buttes-Montmartre   \n",
       "1   3705183.0  10328771.0 2013-11-29             False  Buttes-Montmartre   \n",
       "2   4082273.0  19252768.0 2014-07-31             False             Elysee   \n",
       "3   4797344.0  10668311.0 2013-12-17             False          Vaugirard   \n",
       "4   4823489.0  24837558.0 2014-12-14             False              Passy   \n",
       "\n",
       "    city     property_type     room_type  accommodates  bedrooms  price  \\\n",
       "0  Paris  Entire apartment  Entire place           2.0       1.0   53.0   \n",
       "1  Paris  Entire apartment  Entire place           2.0       1.0  120.0   \n",
       "2  Paris  Entire apartment  Entire place           2.0       1.0   89.0   \n",
       "3  Paris  Entire apartment  Entire place           2.0       1.0   58.0   \n",
       "4  Paris  Entire apartment  Entire place           2.0       1.0   60.0   \n",
       "\n",
       "  instant_bookable  Wifi  Heating  Kitchen     TV  Dedicated workspace  \\\n",
       "0            False  True     True     True  False                False   \n",
       "1            False  True     True     True  False                False   \n",
       "2            False  True     True     True   True                False   \n",
       "3            False  True     True     True   True                False   \n",
       "4            False  True     True     True   True                False   \n",
       "\n",
       "   Price_USD  USD_pp  Host Months  \n",
       "0       58.3   29.15        143.0  \n",
       "1      132.0   66.00        119.0  \n",
       "2       97.9   48.95        111.0  \n",
       "3       63.8   31.90        119.0  \n",
       "4       66.0   33.00        107.0  "
      ]
     },
     "execution_count": 145,
     "metadata": {},
     "output_type": "execute_result"
    }
   ],
   "source": [
    "#end = date.today()\n",
    "\n",
    "end = datetime(2023, 9, 1)\n",
    "#print(end)\n",
    "\n",
    "listings_cities['host_since'] = pd.to_datetime(listings_cities['host_since'], format='%Y/%m/%d')\n",
    "\n",
    "listings_cities['Host Months'] = (pd.to_datetime(end) - pd.to_datetime(listings_cities.host_since)).dt.days\n",
    "\n",
    "#listings_cities.dtypes\n",
    "listings_cities['Host Months'] = listings_cities['Host Months'].astype(float)\n",
    "listings_cities['Host Months'] = listings_cities['Host Months']/30\n",
    "listings_cities['Host Months'] = np.ceil(listings_cities['Host Months'])\n",
    "\n",
    "listings_cities['Host Months'].fillna(0, inplace = True)\n",
    "\n",
    "listings_cities.head()"
   ]
  },
  {
   "cell_type": "markdown",
   "id": "cc4473db",
   "metadata": {},
   "source": [
    "### Room Type Mapping"
   ]
  },
  {
   "cell_type": "code",
   "execution_count": 146,
   "id": "70c89081",
   "metadata": {},
   "outputs": [],
   "source": [
    "room_type_mapping = {'Shared room': 0, 'Private room': 1, 'Entire place': 2, 'Hotel room': 3}\n",
    "listings_cities['room_type_code'] = listings_cities['room_type'].map(room_type_mapping)"
   ]
  },
  {
   "cell_type": "markdown",
   "id": "322381f3",
   "metadata": {},
   "source": [
    "## Outlier Detection"
   ]
  },
  {
   "cell_type": "code",
   "execution_count": 147,
   "id": "095bc983",
   "metadata": {},
   "outputs": [
    {
     "data": {
      "text/plain": [
       "(153242, 21)"
      ]
     },
     "execution_count": 147,
     "metadata": {},
     "output_type": "execute_result"
    }
   ],
   "source": [
    "#Remove the 0s\n",
    "\n",
    "#listings_cities[listings_cities.accommodates == 0].shape[0]\n",
    "#68\n",
    "#listings_cities[listings_cities.Price_USD == 0].shape[0]\n",
    "#23\n",
    "\n",
    "listings_cities = listings_cities[listings_cities['accommodates'] != 0]\n",
    "listings_cities = listings_cities[listings_cities['Price_USD'] != 0]\n",
    "\n",
    "#fig = plt.figure(figsize =(10, 7))\n",
    "#plt.boxplot(listings_cities['accommodates'])\n",
    "#plt.show()\n",
    "\n",
    "listings_cities.shape"
   ]
  },
  {
   "cell_type": "code",
   "execution_count": 148,
   "id": "379e6f3f",
   "metadata": {},
   "outputs": [
    {
     "data": {
      "image/png": "[encoded data removed]",
      "text/plain": [
       "<Figure size 720x504 with 1 Axes>"
      ]
     },
     "metadata": {
      "needs_background": "light"
     },
     "output_type": "display_data"
    }
   ],
   "source": [
    "#listings_cities =  listings_dupe\n",
    "\n",
    "fig = plt.figure(figsize =(10, 7))\n",
    "plt.boxplot(listings_cities['USD_pp'])\n",
    "plt.show()"
   ]
  },
  {
   "cell_type": "code",
   "execution_count": 149,
   "id": "3450fb53",
   "metadata": {},
   "outputs": [
    {
     "data": {
      "image/png": "[encoded data removed]",
      "text/plain": [
       "<Figure size 720x504 with 1 Axes>"
      ]
     },
     "metadata": {
      "needs_background": "light"
     },
     "output_type": "display_data"
    }
   ],
   "source": [
    "#Remove the higher outliers\n",
    "Q1 = listings_cities['USD_pp'].quantile(0.25)\n",
    "Q3 = listings_cities['USD_pp'].quantile(0.75)\n",
    "IQR = Q3 - Q1\n",
    "lower = Q1 - 1.5*IQR\n",
    "upper = Q3 + 1.5*IQR\n",
    "upper\n",
    "\n",
    "listings_cities = listings_cities[listings_cities['USD_pp'] < upper]\n",
    "\n",
    "fig = plt.figure(figsize =(10, 7))\n",
    "plt.boxplot(listings_cities['USD_pp'])\n",
    "plt.show()"
   ]
  },
  {
   "cell_type": "code",
   "execution_count": 150,
   "id": "e5f3d805",
   "metadata": {},
   "outputs": [
    {
     "data": {
      "text/plain": [
       "(87523, 21)"
      ]
     },
     "execution_count": 150,
     "metadata": {},
     "output_type": "execute_result"
    }
   ],
   "source": [
    "listings_cities.shape"
   ]
  },
  {
   "cell_type": "code",
   "execution_count": 151,
   "id": "7602bdd2",
   "metadata": {},
   "outputs": [
    {
     "data": {
      "image/png": "[encoded data removed]",
      "text/plain": [
       "<Figure size 720x576 with 1 Axes>"
      ]
     },
     "metadata": {
      "needs_background": "light"
     },
     "output_type": "display_data"
    }
   ],
   "source": [
    "listings_cities = listings_cities[listings_cities['accommodates'] < 8]\n",
    "\n",
    "fig = plt.figure(figsize =(10, 8))\n",
    "plt.boxplot(listings_cities['accommodates'])\n",
    "plt.show()"
   ]
  },
  {
   "cell_type": "code",
   "execution_count": 152,
   "id": "d03d966b",
   "metadata": {},
   "outputs": [
    {
     "data": {
      "text/plain": [
       "(84261, 21)"
      ]
     },
     "execution_count": 152,
     "metadata": {},
     "output_type": "execute_result"
    }
   ],
   "source": [
    "listings_cities.shape"
   ]
  },
  {
   "cell_type": "code",
   "execution_count": 153,
   "id": "f21c2345",
   "metadata": {},
   "outputs": [
    {
     "data": {
      "text/plain": [
       "1.2100000000000002"
      ]
     },
     "execution_count": 153,
     "metadata": {},
     "output_type": "execute_result"
    }
   ],
   "source": [
    "#listings_c = listings_cities[listings_cities['Price_USD']]\n",
    "\n",
    "#fig = plt.figure(figsize =(10, 7))\n",
    "#plt.boxplot(listings_cities['USD_pp'])\n",
    "#plt.show()\n",
    "\n",
    "#listings_cities['USD_pp'].plot(kind='kde')\n",
    "min(listings_cities['USD_pp'])"
   ]
  },
  {
   "cell_type": "markdown",
   "id": "f75edbfa",
   "metadata": {},
   "source": [
    "## Charts "
   ]
  },
  {
   "cell_type": "code",
   "execution_count": 154,
   "id": "5f1d77bf",
   "metadata": {},
   "outputs": [
    {
     "name": "stderr",
     "output_type": "stream",
     "text": [
      "C:\\Users\\Spand\\anaconda3\\lib\\site-packages\\seaborn\\distributions.py:2619: FutureWarning: `distplot` is a deprecated function and will be removed in a future version. Please adapt your code to use either `displot` (a figure-level function with similar flexibility) or `histplot` (an axes-level function for histograms).\n",
      "  warnings.warn(msg, FutureWarning)\n"
     ]
    },
    {
     "data": {
      "text/plain": [
       "Text(0, 0.5, 'Number of Listings')"
      ]
     },
     "execution_count": 154,
     "metadata": {},
     "output_type": "execute_result"
    },
    {
     "data": {
      "image/png": "[encoded data removed]",
      "text/plain": [
       "<Figure size 432x288 with 1 Axes>"
      ]
     },
     "metadata": {
      "needs_background": "light"
     },
     "output_type": "display_data"
    }
   ],
   "source": [
    "sns.distplot(listings_cities['USD_pp'])\n",
    "plt.title('Distribution of Price per Person')\n",
    "plt.xlabel('Price per Person (USD)')\n",
    "plt.ylabel('Number of Listings')"
   ]
  },
  {
   "cell_type": "code",
   "execution_count": 155,
   "id": "39e28329",
   "metadata": {},
   "outputs": [
    {
     "data": {
      "text/html": [
       "<div>\n",
       "<style scoped>\n",
       "    .dataframe tbody tr th:only-of-type {\n",
       "        vertical-align: middle;\n",
       "    }\n",
       "\n",
       "    .dataframe tbody tr th {\n",
       "        vertical-align: top;\n",
       "    }\n",
       "\n",
       "    .dataframe thead th {\n",
       "        text-align: right;\n",
       "    }\n",
       "</style>\n",
       "<table border=\"1\" class=\"dataframe\">\n",
       "  <thead>\n",
       "    <tr style=\"text-align: right;\">\n",
       "      <th></th>\n",
       "      <th>listing_id</th>\n",
       "      <th>host_id</th>\n",
       "      <th>accommodates</th>\n",
       "      <th>bedrooms</th>\n",
       "      <th>price</th>\n",
       "      <th>Price_USD</th>\n",
       "      <th>USD_pp</th>\n",
       "      <th>Host Months</th>\n",
       "      <th>room_type_code</th>\n",
       "    </tr>\n",
       "  </thead>\n",
       "  <tbody>\n",
       "    <tr>\n",
       "      <th>count</th>\n",
       "      <td>8.426100e+04</td>\n",
       "      <td>8.426100e+04</td>\n",
       "      <td>84261.000000</td>\n",
       "      <td>84261.000000</td>\n",
       "      <td>84261.000000</td>\n",
       "      <td>84261.000000</td>\n",
       "      <td>84261.000000</td>\n",
       "      <td>84261.000000</td>\n",
       "      <td>84261.000000</td>\n",
       "    </tr>\n",
       "    <tr>\n",
       "      <th>mean</th>\n",
       "      <td>2.303495e+07</td>\n",
       "      <td>8.560985e+07</td>\n",
       "      <td>2.995799</td>\n",
       "      <td>1.319282</td>\n",
       "      <td>198.950143</td>\n",
       "      <td>107.593328</td>\n",
       "      <td>37.613136</td>\n",
       "      <td>96.627764</td>\n",
       "      <td>1.693500</td>\n",
       "    </tr>\n",
       "    <tr>\n",
       "      <th>std</th>\n",
       "      <td>1.352455e+07</td>\n",
       "      <td>9.780567e+07</td>\n",
       "      <td>1.427896</td>\n",
       "      <td>0.652310</td>\n",
       "      <td>335.983448</td>\n",
       "      <td>70.870110</td>\n",
       "      <td>17.708301</td>\n",
       "      <td>28.612933</td>\n",
       "      <td>0.519045</td>\n",
       "    </tr>\n",
       "    <tr>\n",
       "      <th>min</th>\n",
       "      <td>2.577000e+03</td>\n",
       "      <td>2.571000e+03</td>\n",
       "      <td>1.000000</td>\n",
       "      <td>1.000000</td>\n",
       "      <td>8.000000</td>\n",
       "      <td>7.260000</td>\n",
       "      <td>1.210000</td>\n",
       "      <td>32.000000</td>\n",
       "      <td>0.000000</td>\n",
       "    </tr>\n",
       "    <tr>\n",
       "      <th>25%</th>\n",
       "      <td>1.150163e+07</td>\n",
       "      <td>1.194586e+07</td>\n",
       "      <td>2.000000</td>\n",
       "      <td>1.000000</td>\n",
       "      <td>65.000000</td>\n",
       "      <td>60.500000</td>\n",
       "      <td>24.500000</td>\n",
       "      <td>76.000000</td>\n",
       "      <td>1.000000</td>\n",
       "    </tr>\n",
       "    <tr>\n",
       "      <th>50%</th>\n",
       "      <td>2.250434e+07</td>\n",
       "      <td>4.003715e+07</td>\n",
       "      <td>2.000000</td>\n",
       "      <td>1.000000</td>\n",
       "      <td>98.000000</td>\n",
       "      <td>89.100000</td>\n",
       "      <td>33.000000</td>\n",
       "      <td>99.000000</td>\n",
       "      <td>2.000000</td>\n",
       "    </tr>\n",
       "    <tr>\n",
       "      <th>75%</th>\n",
       "      <td>3.496263e+07</td>\n",
       "      <td>1.346240e+08</td>\n",
       "      <td>4.000000</td>\n",
       "      <td>2.000000</td>\n",
       "      <td>160.000000</td>\n",
       "      <td>132.000000</td>\n",
       "      <td>48.400000</td>\n",
       "      <td>117.000000</td>\n",
       "      <td>2.000000</td>\n",
       "    </tr>\n",
       "    <tr>\n",
       "      <th>max</th>\n",
       "      <td>4.807656e+07</td>\n",
       "      <td>3.868271e+08</td>\n",
       "      <td>7.000000</td>\n",
       "      <td>46.000000</td>\n",
       "      <td>4796.000000</td>\n",
       "      <td>627.000000</td>\n",
       "      <td>91.190000</td>\n",
       "      <td>183.000000</td>\n",
       "      <td>3.000000</td>\n",
       "    </tr>\n",
       "  </tbody>\n",
       "</table>\n",
       "</div>"
      ],
      "text/plain": [
       "         listing_id       host_id  accommodates      bedrooms         price  \\\n",
       "count  8.426100e+04  8.426100e+04  84261.000000  84261.000000  84261.000000   \n",
       "mean   2.303495e+07  8.560985e+07      2.995799      1.319282    198.950143   \n",
       "std    1.352455e+07  9.780567e+07      1.427896      0.652310    335.983448   \n",
       "min    2.577000e+03  2.571000e+03      1.000000      1.000000      8.000000   \n",
       "25%    1.150163e+07  1.194586e+07      2.000000      1.000000     65.000000   \n",
       "50%    2.250434e+07  4.003715e+07      2.000000      1.000000     98.000000   \n",
       "75%    3.496263e+07  1.346240e+08      4.000000      2.000000    160.000000   \n",
       "max    4.807656e+07  3.868271e+08      7.000000     46.000000   4796.000000   \n",
       "\n",
       "          Price_USD        USD_pp   Host Months  room_type_code  \n",
       "count  84261.000000  84261.000000  84261.000000    84261.000000  \n",
       "mean     107.593328     37.613136     96.627764        1.693500  \n",
       "std       70.870110     17.708301     28.612933        0.519045  \n",
       "min        7.260000      1.210000     32.000000        0.000000  \n",
       "25%       60.500000     24.500000     76.000000        1.000000  \n",
       "50%       89.100000     33.000000     99.000000        2.000000  \n",
       "75%      132.000000     48.400000    117.000000        2.000000  \n",
       "max      627.000000     91.190000    183.000000        3.000000  "
      ]
     },
     "execution_count": 155,
     "metadata": {},
     "output_type": "execute_result"
    }
   ],
   "source": [
    "df1 = pd.DataFrame(listings_cities.describe())\n",
    "df1"
   ]
  },
  {
   "cell_type": "code",
   "execution_count": 156,
   "id": "05478651",
   "metadata": {},
   "outputs": [
    {
     "name": "stderr",
     "output_type": "stream",
     "text": [
      "C:\\Users\\Spand\\anaconda3\\lib\\site-packages\\seaborn\\_decorators.py:36: FutureWarning: Pass the following variable as a keyword arg: x. From version 0.12, the only valid positional argument will be `data`, and passing other arguments without an explicit keyword will result in an error or misinterpretation.\n",
      "  warnings.warn(\n"
     ]
    },
    {
     "data": {
      "text/plain": [
       "Text(0, 0.5, 'No. of Listings')"
      ]
     },
     "execution_count": 156,
     "metadata": {},
     "output_type": "execute_result"
    },
    {
     "data": {
      "text/plain": [
       "<Figure size 720x360 with 0 Axes>"
      ]
     },
     "metadata": {},
     "output_type": "display_data"
    },
    {
     "data": {
      "image/png": "[encoded data removed]",
      "text/plain": [
       "<Figure size 720x360 with 1 Axes>"
      ]
     },
     "metadata": {
      "needs_background": "light"
     },
     "output_type": "display_data"
    }
   ],
   "source": [
    "#mytable = pd.DataFrame(listings_cities.groupby(['host_id'])['listing_id'].count())\n",
    "#df2 = pd.DataFrame(mytable['listing_id'].value_counts()).reset_index().rename(columns = {'index':'count'})\n",
    "#df2\n",
    "#df2.to_csv(\"num_list.csv\", index = False)\n",
    "\n",
    "fig = plt.figure(figsize = (10, 5))\n",
    " \n",
    "# creating the bar plot\n",
    "plt.figure(figsize = (10, 5))\n",
    "\n",
    "sns.countplot(listings_cities['city'])\n",
    "plt.title('Number of Listings per City')\n",
    "plt.xlabel('City')\n",
    "plt.ylabel('No. of Listings')"
   ]
  },
  {
   "cell_type": "code",
   "execution_count": 157,
   "id": "5c0a158b",
   "metadata": {},
   "outputs": [
    {
     "data": {
      "text/plain": [
       "Text(0.5, 1.0, 'Listings per City')"
      ]
     },
     "execution_count": 157,
     "metadata": {},
     "output_type": "execute_result"
    },
    {
     "data": {
      "image/png": "[encoded data removed]",
      "text/plain": [
       "<Figure size 432x288 with 1 Axes>"
      ]
     },
     "metadata": {},
     "output_type": "display_data"
    }
   ],
   "source": [
    "#cities_count = listings_cities.groupby(['city']).size()\n",
    "#cities_count\n",
    "\n",
    "#fig, ax = plt.subplots()\n",
    "#ax.pie(listings_cities.city, labels = city, autopct = '%1.1f%%')\n",
    "\n",
    "plt.pie(listings_cities['city'].value_counts().values, \n",
    "        labels = listings_cities['city'].value_counts().index, \n",
    "        autopct = '%1.1f%%')\n",
    "\n",
    "plt.title('Listings per City')\n",
    "#plt.legend()"
   ]
  },
  {
   "cell_type": "code",
   "execution_count": 158,
   "id": "8238a5a6",
   "metadata": {},
   "outputs": [
    {
     "name": "stderr",
     "output_type": "stream",
     "text": [
      "C:\\Users\\Spand\\anaconda3\\lib\\site-packages\\seaborn\\_decorators.py:36: FutureWarning: Pass the following variable as a keyword arg: x. From version 0.12, the only valid positional argument will be `data`, and passing other arguments without an explicit keyword will result in an error or misinterpretation.\n",
      "  warnings.warn(\n"
     ]
    },
    {
     "data": {
      "text/plain": [
       "Text(0, 0.5, 'No. of Listings')"
      ]
     },
     "execution_count": 158,
     "metadata": {},
     "output_type": "execute_result"
    },
    {
     "data": {
      "text/plain": [
       "<Figure size 720x360 with 0 Axes>"
      ]
     },
     "metadata": {},
     "output_type": "display_data"
    },
    {
     "data": {
      "image/png": "[encoded data removed]",
      "text/plain": [
       "<Figure size 720x360 with 1 Axes>"
      ]
     },
     "metadata": {
      "needs_background": "light"
     },
     "output_type": "display_data"
    }
   ],
   "source": [
    "fig = plt.figure(figsize = (10, 5))\n",
    " \n",
    "# creating the bar plot\n",
    "plt.figure(figsize = (10, 5))\n",
    "\n",
    "sns.countplot(listings_cities['room_type'])\n",
    "plt.title('Number of Listings per City')\n",
    "plt.xlabel('Room Type')\n",
    "plt.ylabel('No. of Listings')"
   ]
  },
  {
   "cell_type": "code",
   "execution_count": 159,
   "id": "876efaf2",
   "metadata": {},
   "outputs": [
    {
     "data": {
      "text/plain": [
       "Text(0.5, 1.0, 'Listings by Room Type')"
      ]
     },
     "execution_count": 159,
     "metadata": {},
     "output_type": "execute_result"
    },
    {
     "data": {
      "image/png": "[encoded data removed]",
      "text/plain": [
       "<Figure size 432x288 with 1 Axes>"
      ]
     },
     "metadata": {},
     "output_type": "display_data"
    }
   ],
   "source": [
    "plt.pie(listings_cities['room_type'].value_counts().values, \n",
    "        labels = listings_cities['room_type'].value_counts().index, \n",
    "        autopct = '%1.1f%%')\n",
    "#fix_labels(autopct, sepfactor=3)\n",
    "plt.tight_layout()\n",
    "plt.title('Listings by Room Type')"
   ]
  },
  {
   "cell_type": "code",
   "execution_count": 160,
   "id": "f5838e79",
   "metadata": {},
   "outputs": [
    {
     "data": {
      "text/plain": [
       "Text(0.5, 1.0, 'Listings with Heating')"
      ]
     },
     "execution_count": 160,
     "metadata": {},
     "output_type": "execute_result"
    },
    {
     "data": {
      "image/png": "[encoded data removed]",
      "text/plain": [
       "<Figure size 432x288 with 1 Axes>"
      ]
     },
     "metadata": {},
     "output_type": "display_data"
    }
   ],
   "source": [
    "plt.pie(listings_cities['Heating'].value_counts().values, \n",
    "        labels = listings_cities['Heating'].value_counts().index, \n",
    "        autopct = '%1.1f%%')\n",
    "\n",
    "plt.title('Listings with Heating')"
   ]
  },
  {
   "cell_type": "code",
   "execution_count": 161,
   "id": "2b8b3a2a",
   "metadata": {},
   "outputs": [
    {
     "data": {
      "text/plain": [
       "Text(0.5, 1.0, 'Listings with Kitchen')"
      ]
     },
     "execution_count": 161,
     "metadata": {},
     "output_type": "execute_result"
    },
    {
     "data": {
      "image/png": "[encoded data removed]",
      "text/plain": [
       "<Figure size 432x288 with 1 Axes>"
      ]
     },
     "metadata": {},
     "output_type": "display_data"
    }
   ],
   "source": [
    "plt.pie(listings_cities['Kitchen'].value_counts().values, \n",
    "        labels = listings_cities['Kitchen'].value_counts().index, autopct = '%1.1f%%')\n",
    "\n",
    "plt.title('Listings with Kitchen')"
   ]
  },
  {
   "cell_type": "code",
   "execution_count": 162,
   "id": "60c62fdf",
   "metadata": {},
   "outputs": [
    {
     "data": {
      "text/plain": [
       "Text(0.5, 1.0, 'Listings with TV')"
      ]
     },
     "execution_count": 162,
     "metadata": {},
     "output_type": "execute_result"
    },
    {
     "data": {
      "image/png": "[encoded data removed]",
      "text/plain": [
       "<Figure size 432x288 with 1 Axes>"
      ]
     },
     "metadata": {},
     "output_type": "display_data"
    }
   ],
   "source": [
    "plt.pie(listings_cities['TV'].value_counts().values, \n",
    "        labels = listings_cities['TV'].value_counts().index, autopct = '%1.1f%%')\n",
    "\n",
    "plt.title('Listings with TV')"
   ]
  },
  {
   "cell_type": "code",
   "execution_count": 163,
   "id": "b90cb401",
   "metadata": {},
   "outputs": [
    {
     "data": {
      "text/plain": [
       "Text(0.5, 1.0, 'Listings with Dedicated Workspace')"
      ]
     },
     "execution_count": 163,
     "metadata": {},
     "output_type": "execute_result"
    },
    {
     "data": {
      "image/png": "[encoded data removed]",
      "text/plain": [
       "<Figure size 432x288 with 1 Axes>"
      ]
     },
     "metadata": {},
     "output_type": "display_data"
    }
   ],
   "source": [
    "plt.pie(listings_cities['Dedicated workspace'].value_counts().values, \n",
    "        labels = listings_cities['Dedicated workspace'].value_counts().index, autopct = '%1.1f%%')\n",
    "\n",
    "plt.title('Listings with Dedicated Workspace')"
   ]
  },
  {
   "cell_type": "code",
   "execution_count": 164,
   "id": "efb86b06",
   "metadata": {},
   "outputs": [
    {
     "data": {
      "text/plain": [
       "Text(0.5, 1.0, 'Listings offering Instant Booking')"
      ]
     },
     "execution_count": 164,
     "metadata": {},
     "output_type": "execute_result"
    },
    {
     "data": {
      "image/png": "[encoded data removed]",
      "text/plain": [
       "<Figure size 432x288 with 1 Axes>"
      ]
     },
     "metadata": {},
     "output_type": "display_data"
    }
   ],
   "source": [
    "plt.pie(listings_cities['instant_bookable'].value_counts().values, \n",
    "        labels = listings_cities['instant_bookable'].value_counts().index, autopct = '%1.1f%%')\n",
    "\n",
    "plt.title('Listings offering Instant Booking')"
   ]
  },
  {
   "cell_type": "code",
   "execution_count": 165,
   "id": "20e38a01",
   "metadata": {},
   "outputs": [
    {
     "data": {
      "text/plain": [
       "Text(0, 0.5, 'Price per Person (USD)')"
      ]
     },
     "execution_count": 165,
     "metadata": {},
     "output_type": "execute_result"
    },
    {
     "data": {
      "image/png": "[encoded data removed]",
      "text/plain": [
       "<Figure size 432x288 with 1 Axes>"
      ]
     },
     "metadata": {
      "needs_background": "light"
     },
     "output_type": "display_data"
    }
   ],
   "source": [
    "sns.boxplot(data = listings_cities, x = 'city', y = 'USD_pp')\n",
    "plt.title('Price per Person of Listings by City')\n",
    "plt.xlabel('City')\n",
    "plt.ylabel('Price per Person (USD)')"
   ]
  },
  {
   "cell_type": "code",
   "execution_count": 166,
   "id": "a668527f",
   "metadata": {},
   "outputs": [
    {
     "data": {
      "text/plain": [
       "Text(0, 0.5, 'Price per Person (USD)')"
      ]
     },
     "execution_count": 166,
     "metadata": {},
     "output_type": "execute_result"
    },
    {
     "data": {
      "image/png": "[encoded data removed]",
      "text/plain": [
       "<Figure size 432x288 with 1 Axes>"
      ]
     },
     "metadata": {
      "needs_background": "light"
     },
     "output_type": "display_data"
    }
   ],
   "source": [
    "sns.boxplot(data = listings_cities, x = 'room_type', y = 'USD_pp')\n",
    "plt.title('Price per Person of Listings by Room Type')\n",
    "plt.xlabel('Room Type')\n",
    "plt.ylabel('Price per Person (USD)')\n",
    "#listings_raw.groupby(['room_type']).size()"
   ]
  },
  {
   "cell_type": "code",
   "execution_count": 167,
   "id": "3f36e899",
   "metadata": {},
   "outputs": [
    {
     "data": {
      "text/plain": [
       "<AxesSubplot:xlabel='Wifi'>"
      ]
     },
     "execution_count": 167,
     "metadata": {},
     "output_type": "execute_result"
    },
    {
     "data": {
      "image/png": "[encoded data removed]",
      "text/plain": [
       "<Figure size 432x288 with 1 Axes>"
      ]
     },
     "metadata": {
      "needs_background": "light"
     },
     "output_type": "display_data"
    }
   ],
   "source": [
    "#plt.pie(listings_cities['Wifi'].value_counts().values, labels = listings_cities['Wifi'].value_counts().index, autopct = '%1.1f%%')\n",
    "\n",
    "listings_cities.groupby('Wifi')['USD_pp'].mean().plot.bar()"
   ]
  },
  {
   "cell_type": "code",
   "execution_count": 168,
   "id": "7f68dbfd",
   "metadata": {},
   "outputs": [],
   "source": [
    "#listings_cities.to_excel('Clean.xlsx', sheet_name = 'Sheet1', index = False)"
   ]
  },
  {
   "cell_type": "markdown",
   "id": "7e382efc",
   "metadata": {},
   "source": [
    "## Cities Split "
   ]
  },
  {
   "cell_type": "code",
   "execution_count": 169,
   "id": "32265a15",
   "metadata": {},
   "outputs": [],
   "source": [
    "paris_listings = listings_cities[(listings_cities['city'] == 'Paris')]\n",
    "sydney_listings = listings_cities[(listings_cities['city'] == 'Sydney')]\n",
    "ny_listings = listings_cities[(listings_cities['city'] == 'New York')]\n",
    "bangkok_listings = listings_cities[(listings_cities['city'] == 'Bangkok')]"
   ]
  },
  {
   "cell_type": "code",
   "execution_count": 170,
   "id": "55039d92",
   "metadata": {},
   "outputs": [
    {
     "data": {
      "text/plain": [
       "city\n",
       "Bangkok      7906\n",
       "New York    21686\n",
       "Paris       35727\n",
       "Sydney      18942\n",
       "dtype: int64"
      ]
     },
     "execution_count": 170,
     "metadata": {},
     "output_type": "execute_result"
    }
   ],
   "source": [
    "listings_cities.groupby(['city']).size()"
   ]
  },
  {
   "cell_type": "code",
   "execution_count": 171,
   "id": "b8afc235",
   "metadata": {},
   "outputs": [
    {
     "data": {
      "image/png": "[encoded data removed]",
      "text/plain": [
       "<Figure size 720x504 with 1 Axes>"
      ]
     },
     "metadata": {
      "needs_background": "light"
     },
     "output_type": "display_data"
    }
   ],
   "source": [
    "fig = plt.figure(figsize =(10, 7))\n",
    "plt.boxplot(bangkok_listings['price'])\n",
    "plt.show()"
   ]
  },
  {
   "cell_type": "code",
   "execution_count": 172,
   "id": "7723f891",
   "metadata": {},
   "outputs": [
    {
     "name": "stdout",
     "output_type": "stream",
     "text": [
      "1.0\n"
     ]
    }
   ],
   "source": [
    "print(min(listings_cities['accommodates']))"
   ]
  },
  {
   "cell_type": "code",
   "execution_count": 173,
   "id": "9e180fc5",
   "metadata": {},
   "outputs": [
    {
     "name": "stderr",
     "output_type": "stream",
     "text": [
      "C:\\Users\\Spand\\anaconda3\\lib\\site-packages\\seaborn\\distributions.py:2619: FutureWarning: `distplot` is a deprecated function and will be removed in a future version. Please adapt your code to use either `displot` (a figure-level function with similar flexibility) or `histplot` (an axes-level function for histograms).\n",
      "  warnings.warn(msg, FutureWarning)\n",
      "C:\\Users\\Spand\\anaconda3\\lib\\site-packages\\seaborn\\distributions.py:2619: FutureWarning: `distplot` is a deprecated function and will be removed in a future version. Please adapt your code to use either `displot` (a figure-level function with similar flexibility) or `histplot` (an axes-level function for histograms).\n",
      "  warnings.warn(msg, FutureWarning)\n",
      "C:\\Users\\Spand\\anaconda3\\lib\\site-packages\\seaborn\\distributions.py:2619: FutureWarning: `distplot` is a deprecated function and will be removed in a future version. Please adapt your code to use either `displot` (a figure-level function with similar flexibility) or `histplot` (an axes-level function for histograms).\n",
      "  warnings.warn(msg, FutureWarning)\n",
      "C:\\Users\\Spand\\anaconda3\\lib\\site-packages\\seaborn\\distributions.py:2619: FutureWarning: `distplot` is a deprecated function and will be removed in a future version. Please adapt your code to use either `displot` (a figure-level function with similar flexibility) or `histplot` (an axes-level function for histograms).\n",
      "  warnings.warn(msg, FutureWarning)\n"
     ]
    },
    {
     "data": {
      "image/png": "[encoded data removed]",
      "text/plain": [
       "<Figure size 800x560 with 1 Axes>"
      ]
     },
     "metadata": {
      "needs_background": "light"
     },
     "output_type": "display_data"
    }
   ],
   "source": [
    "kwargs = dict(hist_kws = {'alpha':.6}, kde_kws = {'linewidth':2})\n",
    "\n",
    "plt.figure(figsize = (10, 7), dpi = 80)\n",
    "sns.distplot(paris_listings['USD_pp'], color = \"dodgerblue\", label = \"Paris\", **kwargs)\n",
    "sns.distplot(sydney_listings['USD_pp'], color = \"orange\", label = \"Sydney\", **kwargs)\n",
    "sns.distplot(ny_listings['USD_pp'], color = \"deeppink\", label = \"New York\", **kwargs)\n",
    "sns.distplot(bangkok_listings['USD_pp'], color = \"purple\", label = \"Bangkok\", **kwargs)\n",
    "plt.xlim(0, 110)\n",
    "plt.title('Distribution of Price per Person by City')\n",
    "plt.xlabel('Price per Person (USD)')\n",
    "plt.ylabel('No. of Listings')\n",
    "plt.legend();"
   ]
  },
  {
   "cell_type": "code",
   "execution_count": 174,
   "id": "da635816",
   "metadata": {},
   "outputs": [
    {
     "data": {
      "text/plain": [
       "0    65.0\n",
       "Name: USD_pp, dtype: float64"
      ]
     },
     "execution_count": 174,
     "metadata": {},
     "output_type": "execute_result"
    }
   ],
   "source": [
    "bangkok_listings['USD_pp'].mode()"
   ]
  },
  {
   "cell_type": "markdown",
   "id": "7efe9659",
   "metadata": {},
   "source": [
    "## Hypothesis Testing "
   ]
  },
  {
   "cell_type": "markdown",
   "id": "c183bdfa",
   "metadata": {},
   "source": [
    "### Cities difference"
   ]
  },
  {
   "cell_type": "code",
   "execution_count": 175,
   "id": "07fe62ef",
   "metadata": {},
   "outputs": [
    {
     "data": {
      "text/plain": [
       "KruskalResult(statistic=4704.1293766976605, pvalue=0.0)"
      ]
     },
     "execution_count": 175,
     "metadata": {},
     "output_type": "execute_result"
    }
   ],
   "source": [
    "stats.kruskal(paris_listings['USD_pp'], ny_listings['USD_pp'], sydney_listings['USD_pp'], bangkok_listings['USD_pp'])"
   ]
  },
  {
   "cell_type": "markdown",
   "id": "db0925d3",
   "metadata": {},
   "source": [
    "### Room Type difference "
   ]
  },
  {
   "cell_type": "code",
   "execution_count": 176,
   "id": "ee29e502",
   "metadata": {},
   "outputs": [
    {
     "data": {
      "text/plain": [
       "KruskalResult(statistic=1661.6586981920937, pvalue=0.0)"
      ]
     },
     "execution_count": 176,
     "metadata": {},
     "output_type": "execute_result"
    }
   ],
   "source": [
    "shared_listings = listings_cities[(listings_cities['room_type'] == 'Shared room')]\n",
    "private_listings = listings_cities[(listings_cities['room_type'] == 'Private room')]\n",
    "entire_listings = listings_cities[(listings_cities['room_type'] == 'Entire place')]\n",
    "hotel_listings = listings_cities[(listings_cities['room_type'] == 'Hotel room')]\n",
    "\n",
    "stats.kruskal(shared_listings['USD_pp'], private_listings['USD_pp'], entire_listings['USD_pp'], hotel_listings['USD_pp'])"
   ]
  },
  {
   "cell_type": "markdown",
   "id": "800df1b5",
   "metadata": {},
   "source": [
    "### Hypothesis 1: Host vs Superhost"
   ]
  },
  {
   "cell_type": "code",
   "execution_count": 177,
   "id": "02c8d923",
   "metadata": {},
   "outputs": [
    {
     "data": {
      "text/plain": [
       "host_is_superhost\n",
       "False    67527\n",
       "True     16734\n",
       "dtype: int64"
      ]
     },
     "execution_count": 177,
     "metadata": {},
     "output_type": "execute_result"
    }
   ],
   "source": [
    "listings_cities.groupby(['host_is_superhost']).size()"
   ]
  },
  {
   "cell_type": "code",
   "execution_count": 178,
   "id": "9cafc5a4",
   "metadata": {},
   "outputs": [
    {
     "data": {
      "text/plain": [
       "(-22.575409534164145, 7.560614701787562e-113)"
      ]
     },
     "execution_count": 178,
     "metadata": {},
     "output_type": "execute_result"
    }
   ],
   "source": [
    "superhost_listings = listings_cities[(listings_cities['host_is_superhost'] == False)]\n",
    "host_listings = listings_cities[(listings_cities['host_is_superhost'] == True)]\n",
    "\n",
    "ztest(superhost_listings['USD_pp'], host_listings['USD_pp'], value=0)"
   ]
  },
  {
   "cell_type": "code",
   "execution_count": 179,
   "id": "f8b7740a",
   "metadata": {},
   "outputs": [
    {
     "data": {
      "text/plain": [
       "Text(0, 0.5, 'Price per Person (USD)')"
      ]
     },
     "execution_count": 179,
     "metadata": {},
     "output_type": "execute_result"
    },
    {
     "data": {
      "image/png": "[encoded data removed]",
      "text/plain": [
       "<Figure size 432x288 with 1 Axes>"
      ]
     },
     "metadata": {
      "needs_background": "light"
     },
     "output_type": "display_data"
    }
   ],
   "source": [
    "listings_cities.groupby('host_is_superhost')['USD_pp'].mean().plot.bar()\n",
    "plt.title('Comparison of Price Based on Host Type')\n",
    "plt.xlabel('Superhost')\n",
    "plt.ylabel('Price per Person (USD)')"
   ]
  },
  {
   "cell_type": "code",
   "execution_count": 180,
   "id": "e2b9c46c",
   "metadata": {},
   "outputs": [
    {
     "data": {
      "text/plain": [
       "host_is_superhost\n",
       "False    36.929613\n",
       "True     40.371371\n",
       "Name: USD_pp, dtype: float64"
      ]
     },
     "execution_count": 180,
     "metadata": {},
     "output_type": "execute_result"
    }
   ],
   "source": [
    "listings_cities.groupby('host_is_superhost')['USD_pp'].mean()"
   ]
  },
  {
   "cell_type": "markdown",
   "id": "3ed253c1",
   "metadata": {},
   "source": [
    "### Hypothesis 2: Room Type"
   ]
  },
  {
   "cell_type": "code",
   "execution_count": 181,
   "id": "033fa50e",
   "metadata": {},
   "outputs": [
    {
     "data": {
      "text/plain": [
       "instant_bookable\n",
       "False    56000\n",
       "True     28261\n",
       "dtype: int64"
      ]
     },
     "execution_count": 181,
     "metadata": {},
     "output_type": "execute_result"
    }
   ],
   "source": [
    "listings_cities.groupby(['instant_bookable']).size()"
   ]
  },
  {
   "cell_type": "code",
   "execution_count": 182,
   "id": "a9c489cf",
   "metadata": {},
   "outputs": [
    {
     "data": {
      "text/plain": [
       "(2.692744252671389, 0.00708666059173072)"
      ]
     },
     "execution_count": 182,
     "metadata": {},
     "output_type": "execute_result"
    }
   ],
   "source": [
    "instant_book = listings_cities[(listings_cities['instant_bookable'] == False)]\n",
    "normal_book = listings_cities[(listings_cities['instant_bookable'] == True)]\n",
    "\n",
    "ztest(instant_book['USD_pp'], normal_book['USD_pp'], value=0)"
   ]
  },
  {
   "cell_type": "code",
   "execution_count": 183,
   "id": "4b6ddef7",
   "metadata": {},
   "outputs": [
    {
     "data": {
      "text/plain": [
       "Text(0, 0.5, 'Price per Person (USD)')"
      ]
     },
     "execution_count": 183,
     "metadata": {},
     "output_type": "execute_result"
    },
    {
     "data": {
      "image/png": "[encoded data removed]",
      "text/plain": [
       "<Figure size 432x288 with 1 Axes>"
      ]
     },
     "metadata": {
      "needs_background": "light"
     },
     "output_type": "display_data"
    }
   ],
   "source": [
    "listings_cities.groupby('instant_bookable')['USD_pp'].mean().plot.bar()\n",
    "plt.title('Comparison of Price Based on Booking Type')\n",
    "plt.xlabel('Instant Bookable')\n",
    "plt.ylabel('Price per Person (USD)')"
   ]
  },
  {
   "cell_type": "code",
   "execution_count": 184,
   "id": "debb2a18",
   "metadata": {},
   "outputs": [
    {
     "data": {
      "text/plain": [
       "instant_bookable\n",
       "False    37.729829\n",
       "True     37.381907\n",
       "Name: USD_pp, dtype: float64"
      ]
     },
     "execution_count": 184,
     "metadata": {},
     "output_type": "execute_result"
    }
   ],
   "source": [
    "listings_cities.groupby('instant_bookable')['USD_pp'].mean()"
   ]
  },
  {
   "cell_type": "markdown",
   "id": "791fda9d",
   "metadata": {},
   "source": [
    "### Hypothesis 3 : Wifi"
   ]
  },
  {
   "cell_type": "code",
   "execution_count": 185,
   "id": "6a11e5dd",
   "metadata": {},
   "outputs": [
    {
     "data": {
      "text/plain": [
       "Wifi\n",
       "False     2415\n",
       "True     81846\n",
       "dtype: int64"
      ]
     },
     "execution_count": 185,
     "metadata": {},
     "output_type": "execute_result"
    }
   ],
   "source": [
    "listings_cities.groupby(['Wifi']).size()"
   ]
  },
  {
   "cell_type": "code",
   "execution_count": 186,
   "id": "6516ba6e",
   "metadata": {},
   "outputs": [
    {
     "data": {
      "text/plain": [
       "(0.8902943059463673, 0.37330787777963903)"
      ]
     },
     "execution_count": 186,
     "metadata": {},
     "output_type": "execute_result"
    }
   ],
   "source": [
    "listings_no_wifi = listings_cities[(listings_cities['Wifi'] == False)]\n",
    "listings_wifi = listings_cities[(listings_cities['Wifi'] == True)]\n",
    "\n",
    "ztest(listings_no_wifi['USD_pp'], listings_wifi['USD_pp'], value=0)"
   ]
  },
  {
   "cell_type": "code",
   "execution_count": 187,
   "id": "a6897cdd",
   "metadata": {},
   "outputs": [
    {
     "data": {
      "text/plain": [
       "Text(0, 0.5, 'Price per Person (USD)')"
      ]
     },
     "execution_count": 187,
     "metadata": {},
     "output_type": "execute_result"
    },
    {
     "data": {
      "image/png": "[encoded data removed]",
      "text/plain": [
       "<Figure size 432x288 with 1 Axes>"
      ]
     },
     "metadata": {
      "needs_background": "light"
     },
     "output_type": "display_data"
    }
   ],
   "source": [
    "listings_cities.groupby('Wifi')['USD_pp'].mean().plot.bar()\n",
    "plt.title('Comparison of Price Based on Availability of Wifi')\n",
    "plt.xlabel('Wifi')\n",
    "plt.ylabel('Price per Person (USD)')"
   ]
  },
  {
   "cell_type": "code",
   "execution_count": 188,
   "id": "b35f1c0d",
   "metadata": {},
   "outputs": [
    {
     "data": {
      "text/plain": [
       "Wifi\n",
       "False    37.929319\n",
       "True     37.603807\n",
       "Name: USD_pp, dtype: float64"
      ]
     },
     "execution_count": 188,
     "metadata": {},
     "output_type": "execute_result"
    }
   ],
   "source": [
    "listings_cities.groupby('Wifi')['USD_pp'].mean()"
   ]
  },
  {
   "cell_type": "markdown",
   "id": "707b54b6",
   "metadata": {},
   "source": [
    "### Hypothesis 4: Heating"
   ]
  },
  {
   "cell_type": "code",
   "execution_count": 189,
   "id": "81264565",
   "metadata": {},
   "outputs": [
    {
     "data": {
      "text/plain": [
       "(0.7728629743784615, 0.43960347918593023)"
      ]
     },
     "execution_count": 189,
     "metadata": {},
     "output_type": "execute_result"
    }
   ],
   "source": [
    "listings_no_heating = listings_cities[(listings_cities['Heating'] == False)]\n",
    "listings_heating = listings_cities[(listings_cities['Heating'] == True)]\n",
    "\n",
    "ztest(listings_no_heating['USD_pp'], listings_heating['USD_pp'], value=0)"
   ]
  },
  {
   "cell_type": "code",
   "execution_count": 190,
   "id": "a20ed259",
   "metadata": {},
   "outputs": [
    {
     "data": {
      "text/plain": [
       "Text(0, 0.5, 'Price per Person (USD)')"
      ]
     },
     "execution_count": 190,
     "metadata": {},
     "output_type": "execute_result"
    },
    {
     "data": {
      "image/png": "[encoded data removed]",
      "text/plain": [
       "<Figure size 432x288 with 1 Axes>"
      ]
     },
     "metadata": {
      "needs_background": "light"
     },
     "output_type": "display_data"
    }
   ],
   "source": [
    "listings_cities.groupby('Heating')['USD_pp'].mean().plot.bar()\n",
    "plt.title('Comparison of Price Based on Availability of Heating')\n",
    "plt.xlabel('Heating')\n",
    "plt.ylabel('Price per Person (USD)')"
   ]
  },
  {
   "cell_type": "code",
   "execution_count": 191,
   "id": "dd03f2c7",
   "metadata": {},
   "outputs": [
    {
     "data": {
      "text/plain": [
       "Heating\n",
       "False    37.758246\n",
       "True     37.597817\n",
       "Name: USD_pp, dtype: float64"
      ]
     },
     "execution_count": 191,
     "metadata": {},
     "output_type": "execute_result"
    }
   ],
   "source": [
    "listings_cities.groupby('Heating')['USD_pp'].mean()"
   ]
  },
  {
   "cell_type": "markdown",
   "id": "73991b4a",
   "metadata": {},
   "source": [
    "### Hypothesis 5: Kitchen"
   ]
  },
  {
   "cell_type": "code",
   "execution_count": 192,
   "id": "d7aaae52",
   "metadata": {},
   "outputs": [
    {
     "data": {
      "text/plain": [
       "(-1.2984838562437708, 0.19412112025082295)"
      ]
     },
     "execution_count": 192,
     "metadata": {},
     "output_type": "execute_result"
    }
   ],
   "source": [
    "listings_no_Kitchen = listings_cities[(listings_cities['Kitchen'] < 1)]\n",
    "listings_Kitchen = listings_cities[(listings_cities['Kitchen'] > 0)]\n",
    "\n",
    "ztest(listings_no_Kitchen['USD_pp'], listings_Kitchen['USD_pp'], value=0)"
   ]
  },
  {
   "cell_type": "code",
   "execution_count": 193,
   "id": "947e4e11",
   "metadata": {},
   "outputs": [
    {
     "data": {
      "text/plain": [
       "Text(0, 0.5, 'Price per Person (USD)')"
      ]
     },
     "execution_count": 193,
     "metadata": {},
     "output_type": "execute_result"
    },
    {
     "data": {
      "image/png": "[encoded data removed]",
      "text/plain": [
       "<Figure size 432x288 with 1 Axes>"
      ]
     },
     "metadata": {
      "needs_background": "light"
     },
     "output_type": "display_data"
    }
   ],
   "source": [
    "listings_cities.groupby('Kitchen')['USD_pp'].mean().plot.bar()\n",
    "plt.title('Comparison of Price Based on Availability of Kitchen')\n",
    "plt.xlabel('Kitchen')\n",
    "plt.ylabel('Price per Person (USD)')"
   ]
  },
  {
   "cell_type": "code",
   "execution_count": 194,
   "id": "1253d91a",
   "metadata": {},
   "outputs": [
    {
     "data": {
      "text/plain": [
       "Kitchen\n",
       "False    37.297515\n",
       "True     37.633017\n",
       "Name: USD_pp, dtype: float64"
      ]
     },
     "execution_count": 194,
     "metadata": {},
     "output_type": "execute_result"
    }
   ],
   "source": [
    "listings_cities.groupby('Kitchen')['USD_pp'].mean()"
   ]
  },
  {
   "cell_type": "markdown",
   "id": "ee2e1112",
   "metadata": {},
   "source": [
    "### Hypothesis 6: TV"
   ]
  },
  {
   "cell_type": "code",
   "execution_count": 195,
   "id": "2b4cfd00",
   "metadata": {},
   "outputs": [
    {
     "data": {
      "text/plain": [
       "(0.8339107312256996, 0.40433128960919207)"
      ]
     },
     "execution_count": 195,
     "metadata": {},
     "output_type": "execute_result"
    }
   ],
   "source": [
    "listings_no_TV = listings_cities[(listings_cities['TV'] < 1)]\n",
    "listings_TV = listings_cities[(listings_cities['TV'] > 0)]\n",
    "\n",
    "ztest(listings_no_TV['USD_pp'], listings_TV['USD_pp'], value=0)"
   ]
  },
  {
   "cell_type": "code",
   "execution_count": 196,
   "id": "3e8b1f53",
   "metadata": {},
   "outputs": [
    {
     "data": {
      "text/plain": [
       "Text(0, 0.5, 'Price per Person (USD)')"
      ]
     },
     "execution_count": 196,
     "metadata": {},
     "output_type": "execute_result"
    },
    {
     "data": {
      "image/png": "[encoded data removed]",
      "text/plain": [
       "<Figure size 432x288 with 1 Axes>"
      ]
     },
     "metadata": {
      "needs_background": "light"
     },
     "output_type": "display_data"
    }
   ],
   "source": [
    "listings_cities.groupby('TV')['USD_pp'].mean().plot.bar()\n",
    "plt.title('Comparison of Price Based on Availability of TV')\n",
    "plt.xlabel('TV')\n",
    "plt.ylabel('Price per Person (USD)')"
   ]
  },
  {
   "cell_type": "code",
   "execution_count": 197,
   "id": "b6ce7895",
   "metadata": {},
   "outputs": [
    {
     "data": {
      "text/plain": [
       "TV\n",
       "False    37.757874\n",
       "True     37.595256\n",
       "Name: USD_pp, dtype: float64"
      ]
     },
     "execution_count": 197,
     "metadata": {},
     "output_type": "execute_result"
    }
   ],
   "source": [
    "listings_cities.groupby('TV')['USD_pp'].mean()"
   ]
  },
  {
   "cell_type": "markdown",
   "id": "c9a6a30b",
   "metadata": {},
   "source": [
    "### Hypothesis 7: Dedicated Workspace"
   ]
  },
  {
   "cell_type": "code",
   "execution_count": 198,
   "id": "491d7421",
   "metadata": {},
   "outputs": [
    {
     "data": {
      "text/plain": [
       "(-1.2587582899850864, 0.2081176500809685)"
      ]
     },
     "execution_count": 198,
     "metadata": {},
     "output_type": "execute_result"
    }
   ],
   "source": [
    "listings_no_DW = listings_cities[(listings_cities['Dedicated workspace'] < 1)]\n",
    "listings_DW = listings_cities[(listings_cities['Dedicated workspace'] > 0)]\n",
    "\n",
    "ztest(listings_no_DW['USD_pp'], listings_DW['USD_pp'], value=0)"
   ]
  },
  {
   "cell_type": "code",
   "execution_count": 199,
   "id": "56097ccd",
   "metadata": {},
   "outputs": [
    {
     "data": {
      "text/plain": [
       "Text(0, 0.5, 'Price per Person (USD)')"
      ]
     },
     "execution_count": 199,
     "metadata": {},
     "output_type": "execute_result"
    },
    {
     "data": {
      "image/png": "[encoded data removed]",
      "text/plain": [
       "<Figure size 432x288 with 1 Axes>"
      ]
     },
     "metadata": {
      "needs_background": "light"
     },
     "output_type": "display_data"
    }
   ],
   "source": [
    "listings_cities.groupby('Dedicated workspace')['USD_pp'].mean().plot.bar()\n",
    "plt.title('Comparison of Price Based on Availability of Dedicated Workspace')\n",
    "plt.xlabel('Dedicated Workspace')\n",
    "plt.ylabel('Price per Person (USD)')"
   ]
  },
  {
   "cell_type": "code",
   "execution_count": 200,
   "id": "045bb88b",
   "metadata": {},
   "outputs": [
    {
     "data": {
      "text/plain": [
       "Dedicated workspace\n",
       "False    37.416695\n",
       "True     37.643154\n",
       "Name: USD_pp, dtype: float64"
      ]
     },
     "execution_count": 200,
     "metadata": {},
     "output_type": "execute_result"
    }
   ],
   "source": [
    "listings_cities.groupby('Dedicated workspace')['USD_pp'].mean()"
   ]
  },
  {
   "cell_type": "markdown",
   "id": "ff9b0290",
   "metadata": {},
   "source": [
    "### Hypothesis 8: Room Type and Property Type"
   ]
  },
  {
   "cell_type": "code",
   "execution_count": 201,
   "id": "b6929f2d",
   "metadata": {},
   "outputs": [
    {
     "data": {
      "text/html": [
       "<div>\n",
       "<style scoped>\n",
       "    .dataframe tbody tr th:only-of-type {\n",
       "        vertical-align: middle;\n",
       "    }\n",
       "\n",
       "    .dataframe tbody tr th {\n",
       "        vertical-align: top;\n",
       "    }\n",
       "\n",
       "    .dataframe thead th {\n",
       "        text-align: right;\n",
       "    }\n",
       "</style>\n",
       "<table border=\"1\" class=\"dataframe\">\n",
       "  <thead>\n",
       "    <tr style=\"text-align: right;\">\n",
       "      <th>room_type</th>\n",
       "      <th>Entire place</th>\n",
       "      <th>Hotel room</th>\n",
       "      <th>Private room</th>\n",
       "      <th>Shared room</th>\n",
       "    </tr>\n",
       "    <tr>\n",
       "      <th>property_type</th>\n",
       "      <th></th>\n",
       "      <th></th>\n",
       "      <th></th>\n",
       "      <th></th>\n",
       "    </tr>\n",
       "  </thead>\n",
       "  <tbody>\n",
       "    <tr>\n",
       "      <th>Barn</th>\n",
       "      <td>3</td>\n",
       "      <td>0</td>\n",
       "      <td>0</td>\n",
       "      <td>0</td>\n",
       "    </tr>\n",
       "    <tr>\n",
       "      <th>Boat</th>\n",
       "      <td>17</td>\n",
       "      <td>0</td>\n",
       "      <td>0</td>\n",
       "      <td>0</td>\n",
       "    </tr>\n",
       "    <tr>\n",
       "      <th>Camper/RV</th>\n",
       "      <td>14</td>\n",
       "      <td>0</td>\n",
       "      <td>0</td>\n",
       "      <td>0</td>\n",
       "    </tr>\n",
       "    <tr>\n",
       "      <th>Campsite</th>\n",
       "      <td>1</td>\n",
       "      <td>0</td>\n",
       "      <td>0</td>\n",
       "      <td>0</td>\n",
       "    </tr>\n",
       "    <tr>\n",
       "      <th>Casa particular</th>\n",
       "      <td>1</td>\n",
       "      <td>0</td>\n",
       "      <td>0</td>\n",
       "      <td>0</td>\n",
       "    </tr>\n",
       "    <tr>\n",
       "      <th>...</th>\n",
       "      <td>...</td>\n",
       "      <td>...</td>\n",
       "      <td>...</td>\n",
       "      <td>...</td>\n",
       "    </tr>\n",
       "    <tr>\n",
       "      <th>Tent</th>\n",
       "      <td>2</td>\n",
       "      <td>0</td>\n",
       "      <td>0</td>\n",
       "      <td>0</td>\n",
       "    </tr>\n",
       "    <tr>\n",
       "      <th>Tiny house</th>\n",
       "      <td>40</td>\n",
       "      <td>0</td>\n",
       "      <td>0</td>\n",
       "      <td>0</td>\n",
       "    </tr>\n",
       "    <tr>\n",
       "      <th>Train</th>\n",
       "      <td>1</td>\n",
       "      <td>0</td>\n",
       "      <td>0</td>\n",
       "      <td>0</td>\n",
       "    </tr>\n",
       "    <tr>\n",
       "      <th>Treehouse</th>\n",
       "      <td>2</td>\n",
       "      <td>0</td>\n",
       "      <td>0</td>\n",
       "      <td>0</td>\n",
       "    </tr>\n",
       "    <tr>\n",
       "      <th>Yurt</th>\n",
       "      <td>1</td>\n",
       "      <td>0</td>\n",
       "      <td>0</td>\n",
       "      <td>0</td>\n",
       "    </tr>\n",
       "  </tbody>\n",
       "</table>\n",
       "<p>96 rows × 4 columns</p>\n",
       "</div>"
      ],
      "text/plain": [
       "room_type        Entire place  Hotel room  Private room  Shared room\n",
       "property_type                                                       \n",
       "Barn                        3           0             0            0\n",
       "Boat                       17           0             0            0\n",
       "Camper/RV                  14           0             0            0\n",
       "Campsite                    1           0             0            0\n",
       "Casa particular             1           0             0            0\n",
       "...                       ...         ...           ...          ...\n",
       "Tent                        2           0             0            0\n",
       "Tiny house                 40           0             0            0\n",
       "Train                       1           0             0            0\n",
       "Treehouse                   2           0             0            0\n",
       "Yurt                        1           0             0            0\n",
       "\n",
       "[96 rows x 4 columns]"
      ]
     },
     "execution_count": 201,
     "metadata": {},
     "output_type": "execute_result"
    }
   ],
   "source": [
    "place_room_pivot = pd.crosstab(listings_cities['property_type'],listings_cities['room_type'])\n",
    "place_room_pivot"
   ]
  },
  {
   "cell_type": "code",
   "execution_count": 202,
   "id": "1eda5eee",
   "metadata": {},
   "outputs": [
    {
     "name": "stdout",
     "output_type": "stream",
     "text": [
      "chi2 : 223050.4964410953, p_val : 0.0, dof : 285 \n",
      "P value is lesser than 0.05 : True\n"
     ]
    }
   ],
   "source": [
    "chi2, p_val, dof, expected = stats.chi2_contingency(place_room_pivot)\n",
    "print(f\"chi2 : {chi2}, p_val : {p_val}, dof : {dof} \\nP value is lesser than 0.05 : {p_val < 0.05}\")\n",
    "\n",
    "#The null hypothesis is rejected as the p value is lesser than 0.05, hence the alternative hypothesis is accepted. \n",
    "#We can confirm that there is a dependency between the property type and the room type. This can be seen in the bar chart above."
   ]
  },
  {
   "cell_type": "code",
   "execution_count": 203,
   "id": "f1e77c58",
   "metadata": {},
   "outputs": [
    {
     "data": {
      "text/html": [
       "<div>\n",
       "<style scoped>\n",
       "    .dataframe tbody tr th:only-of-type {\n",
       "        vertical-align: middle;\n",
       "    }\n",
       "\n",
       "    .dataframe tbody tr th {\n",
       "        vertical-align: top;\n",
       "    }\n",
       "\n",
       "    .dataframe thead th {\n",
       "        text-align: right;\n",
       "    }\n",
       "</style>\n",
       "<table border=\"1\" class=\"dataframe\">\n",
       "  <thead>\n",
       "    <tr style=\"text-align: right;\">\n",
       "      <th>TV</th>\n",
       "      <th>False</th>\n",
       "      <th>True</th>\n",
       "    </tr>\n",
       "    <tr>\n",
       "      <th>Wifi</th>\n",
       "      <th></th>\n",
       "      <th></th>\n",
       "    </tr>\n",
       "  </thead>\n",
       "  <tbody>\n",
       "    <tr>\n",
       "      <th>False</th>\n",
       "      <td>1103</td>\n",
       "      <td>1312</td>\n",
       "    </tr>\n",
       "    <tr>\n",
       "      <th>True</th>\n",
       "      <td>8162</td>\n",
       "      <td>73684</td>\n",
       "    </tr>\n",
       "  </tbody>\n",
       "</table>\n",
       "</div>"
      ],
      "text/plain": [
       "TV     False   True\n",
       "Wifi               \n",
       "False   1103   1312\n",
       "True    8162  73684"
      ]
     },
     "execution_count": 203,
     "metadata": {},
     "output_type": "execute_result"
    }
   ],
   "source": [
    "tv_wifi_pivot = pd.crosstab(listings_cities['Wifi'],listings_cities['TV'])\n",
    "tv_wifi_pivot"
   ]
  },
  {
   "cell_type": "code",
   "execution_count": 204,
   "id": "21b20ade",
   "metadata": {},
   "outputs": [
    {
     "name": "stdout",
     "output_type": "stream",
     "text": [
      "chi2 : 3051.316850291042, p_val : 0.0, dof : 1 \n",
      "P value is lesser than 0.05 : True\n"
     ]
    }
   ],
   "source": [
    "chi2, p_val, dof, expected = stats.chi2_contingency(tv_wifi_pivot)\n",
    "print(f\"chi2 : {chi2}, p_val : {p_val}, dof : {dof} \\nP value is lesser than 0.05 : {p_val < 0.05}\")\n",
    "\n",
    "#The null hypothesis is rejected as the p value is lesser than 0.05, hence the alternative hypothesis is accepted. \n",
    "#We can confirm that there is a dependency between the property type and the room type. This can be seen in the bar chart above."
   ]
  },
  {
   "cell_type": "markdown",
   "id": "a5b559c6",
   "metadata": {},
   "source": [
    "### Hypothesis 9: Accommodates vs Price per person"
   ]
  },
  {
   "cell_type": "code",
   "execution_count": 205,
   "id": "b13fbefd",
   "metadata": {},
   "outputs": [
    {
     "data": {
      "text/plain": [
       "Text(0.5, 0, 'Price Per Person (USD)')"
      ]
     },
     "execution_count": 205,
     "metadata": {},
     "output_type": "execute_result"
    },
    {
     "data": {
      "image/png": "[encoded data removed]",
      "text/plain": [
       "<Figure size 432x288 with 1 Axes>"
      ]
     },
     "metadata": {
      "needs_background": "light"
     },
     "output_type": "display_data"
    }
   ],
   "source": [
    "plt.scatter(listings_cities['USD_pp'], listings_cities['accommodates'])\n",
    "plt.ylabel('Number of Guests Accommodated', fontsize = 10)\n",
    "plt.xlabel('Price Per Person (USD)', fontsize = 10)"
   ]
  },
  {
   "cell_type": "code",
   "execution_count": 206,
   "id": "4027e5d8",
   "metadata": {},
   "outputs": [
    {
     "name": "stdout",
     "output_type": "stream",
     "text": [
      "[[ 1.         -0.20122597]\n",
      " [-0.20122597  1.        ]]\n"
     ]
    }
   ],
   "source": [
    "print(np.corrcoef(listings_cities['USD_pp'], listings_cities['accommodates']))"
   ]
  },
  {
   "cell_type": "markdown",
   "id": "ba4e31b6",
   "metadata": {},
   "source": [
    "### Hypothesis 10: Host months vs price per person"
   ]
  },
  {
   "cell_type": "code",
   "execution_count": 207,
   "id": "3980ead1",
   "metadata": {},
   "outputs": [
    {
     "data": {
      "text/plain": [
       "Text(0.5, 0, 'Price Per Person (USD)')"
      ]
     },
     "execution_count": 207,
     "metadata": {},
     "output_type": "execute_result"
    },
    {
     "data": {
      "image/png": "[encoded data removed]",
      "text/plain": [
       "<Figure size 432x288 with 1 Axes>"
      ]
     },
     "metadata": {
      "needs_background": "light"
     },
     "output_type": "display_data"
    }
   ],
   "source": [
    "plt.scatter(listings_cities['USD_pp'], listings_cities['Host Months'])\n",
    "plt.ylabel('Host Since (in Months)', fontsize = 10)\n",
    "plt.xlabel('Price Per Person (USD)', fontsize = 10)"
   ]
  },
  {
   "cell_type": "code",
   "execution_count": 208,
   "id": "f961e46e",
   "metadata": {},
   "outputs": [
    {
     "name": "stdout",
     "output_type": "stream",
     "text": [
      "[[1.         0.07754161]\n",
      " [0.07754161 1.        ]]\n"
     ]
    }
   ],
   "source": [
    "print(np.corrcoef(listings_cities['USD_pp'], listings_cities['Host Months']))"
   ]
  },
  {
   "cell_type": "markdown",
   "id": "2d86ffbf",
   "metadata": {},
   "source": [
    "## Regression Modelling"
   ]
  },
  {
   "cell_type": "markdown",
   "id": "acfee561",
   "metadata": {},
   "source": [
    "### Paris Listings "
   ]
  },
  {
   "cell_type": "code",
   "execution_count": 242,
   "id": "113bfbec",
   "metadata": {},
   "outputs": [
    {
     "data": {
      "text/html": [
       "<div>\n",
       "<style scoped>\n",
       "    .dataframe tbody tr th:only-of-type {\n",
       "        vertical-align: middle;\n",
       "    }\n",
       "\n",
       "    .dataframe tbody tr th {\n",
       "        vertical-align: top;\n",
       "    }\n",
       "\n",
       "    .dataframe thead th {\n",
       "        text-align: right;\n",
       "    }\n",
       "</style>\n",
       "<table border=\"1\" class=\"dataframe\">\n",
       "  <thead>\n",
       "    <tr style=\"text-align: right;\">\n",
       "      <th></th>\n",
       "      <th>Coeff</th>\n",
       "    </tr>\n",
       "  </thead>\n",
       "  <tbody>\n",
       "    <tr>\n",
       "      <th>host_is_superhost</th>\n",
       "      <td>5.777966</td>\n",
       "    </tr>\n",
       "    <tr>\n",
       "      <th>room_type_code</th>\n",
       "      <td>4.305831</td>\n",
       "    </tr>\n",
       "    <tr>\n",
       "      <th>instant_bookable</th>\n",
       "      <td>1.158758</td>\n",
       "    </tr>\n",
       "    <tr>\n",
       "      <th>Wifi</th>\n",
       "      <td>-0.207464</td>\n",
       "    </tr>\n",
       "    <tr>\n",
       "      <th>Heating</th>\n",
       "      <td>0.762529</td>\n",
       "    </tr>\n",
       "    <tr>\n",
       "      <th>TV</th>\n",
       "      <td>0.669169</td>\n",
       "    </tr>\n",
       "  </tbody>\n",
       "</table>\n",
       "</div>"
      ],
      "text/plain": [
       "                      Coeff\n",
       "host_is_superhost  5.777966\n",
       "room_type_code     4.305831\n",
       "instant_bookable   1.158758\n",
       "Wifi              -0.207464\n",
       "Heating            0.762529\n",
       "TV                 0.669169"
      ]
     },
     "execution_count": 242,
     "metadata": {},
     "output_type": "execute_result"
    }
   ],
   "source": [
    "x = paris_listings[['host_is_superhost', 'room_type_code', 'instant_bookable', 'Wifi', 'Heating', 'TV']]\n",
    "y = paris_listings['USD_pp']\n",
    "\n",
    "x_train, x_test, y_train, y_test = train_test_split(x, y, test_size = 0.3)\n",
    "model = LinearRegression()\n",
    "model.fit(x_train, y_train)\n",
    "pd.DataFrame(model.coef_, x.columns, columns = ['Coeff'])"
   ]
  },
  {
   "cell_type": "code",
   "execution_count": 243,
   "id": "bc2b6af4",
   "metadata": {},
   "outputs": [
    {
     "name": "stdout",
     "output_type": "stream",
     "text": [
      "25.750360150755974\n"
     ]
    }
   ],
   "source": [
    "print(model.intercept_)"
   ]
  },
  {
   "cell_type": "code",
   "execution_count": 244,
   "id": "ae954d45",
   "metadata": {},
   "outputs": [
    {
     "data": {
      "text/plain": [
       "<matplotlib.collections.PathCollection at 0x26282e0d7c0>"
      ]
     },
     "execution_count": 244,
     "metadata": {},
     "output_type": "execute_result"
    },
    {
     "data": {
      "image/png": "[encoded data removed]",
      "text/plain": [
       "<Figure size 432x288 with 1 Axes>"
      ]
     },
     "metadata": {
      "needs_background": "light"
     },
     "output_type": "display_data"
    }
   ],
   "source": [
    "predictions = model.predict(x_test)\n",
    "plt.scatter(y_test, predictions)"
   ]
  },
  {
   "cell_type": "code",
   "execution_count": 245,
   "id": "4f2e10c0",
   "metadata": {},
   "outputs": [
    {
     "name": "stdout",
     "output_type": "stream",
     "text": [
      "12.572273609653175 253.2910864551489 15.915121314496755\n"
     ]
    }
   ],
   "source": [
    "print(metrics.mean_absolute_error(y_test, predictions), metrics.mean_squared_error(y_test, predictions), np.sqrt(metrics.mean_squared_error(y_test, predictions)))"
   ]
  },
  {
   "cell_type": "markdown",
   "id": "a03e36d4",
   "metadata": {},
   "source": [
    "### New York Listings "
   ]
  },
  {
   "cell_type": "code",
   "execution_count": 246,
   "id": "851a0b19",
   "metadata": {},
   "outputs": [
    {
     "data": {
      "text/html": [
       "<div>\n",
       "<style scoped>\n",
       "    .dataframe tbody tr th:only-of-type {\n",
       "        vertical-align: middle;\n",
       "    }\n",
       "\n",
       "    .dataframe tbody tr th {\n",
       "        vertical-align: top;\n",
       "    }\n",
       "\n",
       "    .dataframe thead th {\n",
       "        text-align: right;\n",
       "    }\n",
       "</style>\n",
       "<table border=\"1\" class=\"dataframe\">\n",
       "  <thead>\n",
       "    <tr style=\"text-align: right;\">\n",
       "      <th></th>\n",
       "      <th>Coeff</th>\n",
       "    </tr>\n",
       "  </thead>\n",
       "  <tbody>\n",
       "    <tr>\n",
       "      <th>host_is_superhost</th>\n",
       "      <td>-0.544965</td>\n",
       "    </tr>\n",
       "    <tr>\n",
       "      <th>room_type_code</th>\n",
       "      <td>5.318797</td>\n",
       "    </tr>\n",
       "    <tr>\n",
       "      <th>instant_bookable</th>\n",
       "      <td>-2.531938</td>\n",
       "    </tr>\n",
       "    <tr>\n",
       "      <th>Wifi</th>\n",
       "      <td>-0.921496</td>\n",
       "    </tr>\n",
       "    <tr>\n",
       "      <th>Heating</th>\n",
       "      <td>1.339710</td>\n",
       "    </tr>\n",
       "    <tr>\n",
       "      <th>TV</th>\n",
       "      <td>0.715734</td>\n",
       "    </tr>\n",
       "  </tbody>\n",
       "</table>\n",
       "</div>"
      ],
      "text/plain": [
       "                      Coeff\n",
       "host_is_superhost -0.544965\n",
       "room_type_code     5.318797\n",
       "instant_bookable  -2.531938\n",
       "Wifi              -0.921496\n",
       "Heating            1.339710\n",
       "TV                 0.715734"
      ]
     },
     "execution_count": 246,
     "metadata": {},
     "output_type": "execute_result"
    }
   ],
   "source": [
    "x = ny_listings[['host_is_superhost', 'room_type_code', 'instant_bookable', 'Wifi', 'Heating', 'TV']]\n",
    "y = ny_listings['USD_pp']\n",
    "\n",
    "x_train, x_test, y_train, y_test = train_test_split(x, y, test_size = 0.3)\n",
    "model = LinearRegression()\n",
    "model.fit(x_train, y_train)\n",
    "pd.DataFrame(model.coef_, x.columns, columns = ['Coeff'])"
   ]
  },
  {
   "cell_type": "code",
   "execution_count": 247,
   "id": "c5465a74",
   "metadata": {},
   "outputs": [
    {
     "name": "stdout",
     "output_type": "stream",
     "text": [
      "32.90348614604997\n"
     ]
    }
   ],
   "source": [
    "print(model.intercept_)"
   ]
  },
  {
   "cell_type": "code",
   "execution_count": 248,
   "id": "70c0879f",
   "metadata": {},
   "outputs": [
    {
     "data": {
      "text/plain": [
       "<matplotlib.collections.PathCollection at 0x26282e26c10>"
      ]
     },
     "execution_count": 248,
     "metadata": {},
     "output_type": "execute_result"
    },
    {
     "data": {
      "image/png": "[encoded data removed]",
      "text/plain": [
       "<Figure size 432x288 with 1 Axes>"
      ]
     },
     "metadata": {
      "needs_background": "light"
     },
     "output_type": "display_data"
    }
   ],
   "source": [
    "predictions = model.predict(x_test)\n",
    "plt.scatter(y_test, predictions)"
   ]
  },
  {
   "cell_type": "code",
   "execution_count": 249,
   "id": "7f4c586e",
   "metadata": {},
   "outputs": [
    {
     "name": "stdout",
     "output_type": "stream",
     "text": [
      "14.887567311697325 338.20123296375874 18.39024831163948\n"
     ]
    }
   ],
   "source": [
    "print(metrics.mean_absolute_error(y_test, predictions), metrics.mean_squared_error(y_test, predictions), np.sqrt(metrics.mean_squared_error(y_test, predictions)))"
   ]
  },
  {
   "cell_type": "markdown",
   "id": "c0b41468",
   "metadata": {},
   "source": [
    "### Bangkok Listings "
   ]
  },
  {
   "cell_type": "code",
   "execution_count": 250,
   "id": "8180eb38",
   "metadata": {},
   "outputs": [
    {
     "data": {
      "text/html": [
       "<div>\n",
       "<style scoped>\n",
       "    .dataframe tbody tr th:only-of-type {\n",
       "        vertical-align: middle;\n",
       "    }\n",
       "\n",
       "    .dataframe tbody tr th {\n",
       "        vertical-align: top;\n",
       "    }\n",
       "\n",
       "    .dataframe thead th {\n",
       "        text-align: right;\n",
       "    }\n",
       "</style>\n",
       "<table border=\"1\" class=\"dataframe\">\n",
       "  <thead>\n",
       "    <tr style=\"text-align: right;\">\n",
       "      <th></th>\n",
       "      <th>Coeff</th>\n",
       "    </tr>\n",
       "  </thead>\n",
       "  <tbody>\n",
       "    <tr>\n",
       "      <th>host_is_superhost</th>\n",
       "      <td>-0.761772</td>\n",
       "    </tr>\n",
       "    <tr>\n",
       "      <th>room_type_code</th>\n",
       "      <td>5.438787</td>\n",
       "    </tr>\n",
       "    <tr>\n",
       "      <th>instant_bookable</th>\n",
       "      <td>-2.774047</td>\n",
       "    </tr>\n",
       "    <tr>\n",
       "      <th>Wifi</th>\n",
       "      <td>-0.861837</td>\n",
       "    </tr>\n",
       "    <tr>\n",
       "      <th>Heating</th>\n",
       "      <td>1.566672</td>\n",
       "    </tr>\n",
       "    <tr>\n",
       "      <th>TV</th>\n",
       "      <td>0.015927</td>\n",
       "    </tr>\n",
       "  </tbody>\n",
       "</table>\n",
       "</div>"
      ],
      "text/plain": [
       "                      Coeff\n",
       "host_is_superhost -0.761772\n",
       "room_type_code     5.438787\n",
       "instant_bookable  -2.774047\n",
       "Wifi              -0.861837\n",
       "Heating            1.566672\n",
       "TV                 0.015927"
      ]
     },
     "execution_count": 250,
     "metadata": {},
     "output_type": "execute_result"
    }
   ],
   "source": [
    "x = ny_listings[['host_is_superhost', 'room_type_code', 'instant_bookable', 'Wifi', 'Heating', 'TV']]\n",
    "y = ny_listings['USD_pp']\n",
    "\n",
    "x_train, x_test, y_train, y_test = train_test_split(x, y, test_size = 0.3)\n",
    "model = LinearRegression()\n",
    "model.fit(x_train, y_train)\n",
    "pd.DataFrame(model.coef_, x.columns, columns = ['Coeff'])"
   ]
  },
  {
   "cell_type": "code",
   "execution_count": 251,
   "id": "2a171959",
   "metadata": {},
   "outputs": [
    {
     "name": "stdout",
     "output_type": "stream",
     "text": [
      "33.41754938575616\n"
     ]
    }
   ],
   "source": [
    "print(model.intercept_)"
   ]
  },
  {
   "cell_type": "code",
   "execution_count": 252,
   "id": "5573fbc8",
   "metadata": {},
   "outputs": [
    {
     "data": {
      "text/plain": [
       "<matplotlib.collections.PathCollection at 0x26287e757c0>"
      ]
     },
     "execution_count": 252,
     "metadata": {},
     "output_type": "execute_result"
    },
    {
     "data": {
      "image/png": "[encoded data removed]",
      "text/plain": [
       "<Figure size 432x288 with 1 Axes>"
      ]
     },
     "metadata": {
      "needs_background": "light"
     },
     "output_type": "display_data"
    }
   ],
   "source": [
    "predictions = model.predict(x_test)\n",
    "plt.scatter(y_test, predictions)"
   ]
  },
  {
   "cell_type": "code",
   "execution_count": 253,
   "id": "84eb6f3b",
   "metadata": {},
   "outputs": [
    {
     "name": "stdout",
     "output_type": "stream",
     "text": [
      "14.853884318363155 332.6581498173325 18.238918548459296\n"
     ]
    }
   ],
   "source": [
    "print(metrics.mean_absolute_error(y_test, predictions), metrics.mean_squared_error(y_test, predictions), np.sqrt(metrics.mean_squared_error(y_test, predictions)))"
   ]
  },
  {
   "cell_type": "markdown",
   "id": "cf3789e9",
   "metadata": {},
   "source": [
    "### Sydney Listings "
   ]
  },
  {
   "cell_type": "code",
   "execution_count": 254,
   "id": "a2528e71",
   "metadata": {},
   "outputs": [
    {
     "data": {
      "text/html": [
       "<div>\n",
       "<style scoped>\n",
       "    .dataframe tbody tr th:only-of-type {\n",
       "        vertical-align: middle;\n",
       "    }\n",
       "\n",
       "    .dataframe tbody tr th {\n",
       "        vertical-align: top;\n",
       "    }\n",
       "\n",
       "    .dataframe thead th {\n",
       "        text-align: right;\n",
       "    }\n",
       "</style>\n",
       "<table border=\"1\" class=\"dataframe\">\n",
       "  <thead>\n",
       "    <tr style=\"text-align: right;\">\n",
       "      <th></th>\n",
       "      <th>Coeff</th>\n",
       "    </tr>\n",
       "  </thead>\n",
       "  <tbody>\n",
       "    <tr>\n",
       "      <th>host_is_superhost</th>\n",
       "      <td>0.792176</td>\n",
       "    </tr>\n",
       "    <tr>\n",
       "      <th>room_type_code</th>\n",
       "      <td>8.370644</td>\n",
       "    </tr>\n",
       "    <tr>\n",
       "      <th>instant_bookable</th>\n",
       "      <td>-2.999946</td>\n",
       "    </tr>\n",
       "    <tr>\n",
       "      <th>Wifi</th>\n",
       "      <td>0.418106</td>\n",
       "    </tr>\n",
       "    <tr>\n",
       "      <th>Heating</th>\n",
       "      <td>1.110502</td>\n",
       "    </tr>\n",
       "    <tr>\n",
       "      <th>TV</th>\n",
       "      <td>-0.869835</td>\n",
       "    </tr>\n",
       "  </tbody>\n",
       "</table>\n",
       "</div>"
      ],
      "text/plain": [
       "                      Coeff\n",
       "host_is_superhost  0.792176\n",
       "room_type_code     8.370644\n",
       "instant_bookable  -2.999946\n",
       "Wifi               0.418106\n",
       "Heating            1.110502\n",
       "TV                -0.869835"
      ]
     },
     "execution_count": 254,
     "metadata": {},
     "output_type": "execute_result"
    }
   ],
   "source": [
    "x = sydney_listings[['host_is_superhost', 'room_type_code', 'instant_bookable', 'Wifi', 'Heating', 'TV']]\n",
    "y = sydney_listings['USD_pp']\n",
    "\n",
    "x_train, x_test, y_train, y_test = train_test_split(x, y, test_size = 0.3)\n",
    "model = LinearRegression()\n",
    "model.fit(x_train, y_train)\n",
    "pd.DataFrame(model.coef_, x.columns, columns = ['Coeff'])"
   ]
  },
  {
   "cell_type": "code",
   "execution_count": 255,
   "id": "22704b10",
   "metadata": {},
   "outputs": [
    {
     "name": "stdout",
     "output_type": "stream",
     "text": [
      "19.20736478637194\n"
     ]
    }
   ],
   "source": [
    "print(model.intercept_)"
   ]
  },
  {
   "cell_type": "code",
   "execution_count": 256,
   "id": "fb194d99",
   "metadata": {},
   "outputs": [
    {
     "data": {
      "text/plain": [
       "<matplotlib.collections.PathCollection at 0x26287ca1fd0>"
      ]
     },
     "execution_count": 256,
     "metadata": {},
     "output_type": "execute_result"
    },
    {
     "data": {
      "image/png": "[encoded data removed]",
      "text/plain": [
       "<Figure size 432x288 with 1 Axes>"
      ]
     },
     "metadata": {
      "needs_background": "light"
     },
     "output_type": "display_data"
    }
   ],
   "source": [
    "predictions = model.predict(x_test)\n",
    "plt.scatter(y_test, predictions)"
   ]
  },
  {
   "cell_type": "code",
   "execution_count": 257,
   "id": "474bd04e",
   "metadata": {},
   "outputs": [
    {
     "name": "stdout",
     "output_type": "stream",
     "text": [
      "12.506319775872965 261.39192178028026 16.16761954587874\n"
     ]
    }
   ],
   "source": [
    "print(metrics.mean_absolute_error(y_test, predictions), metrics.mean_squared_error(y_test, predictions), np.sqrt(metrics.mean_squared_error(y_test, predictions)))"
   ]
  },
  {
   "cell_type": "code",
   "execution_count": null,
   "id": "912b05a7",
   "metadata": {},
   "outputs": [],
   "source": []
  },
  {
   "cell_type": "code",
   "execution_count": null,
   "id": "4797826e",
   "metadata": {},
   "outputs": [],
   "source": []
  }
 ],
 "metadata": {
  "kernelspec": {
   "display_name": "Python 3 (ipykernel)",
   "language": "python",
   "name": "python3"
  },
  "language_info": {
   "codemirror_mode": {
    "name": "ipython",
    "version": 3
   },
   "file_extension": ".py",
   "mimetype": "text/x-python",
   "name": "python",
   "nbconvert_exporter": "python",
   "pygments_lexer": "ipython3",
   "version": "3.9.12"
  }
 },
 "nbformat": 4,
 "nbformat_minor": 5
}
